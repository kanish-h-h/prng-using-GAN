{
 "cells": [
  {
   "cell_type": "markdown",
   "id": "486c9252-3ac2-407b-bcae-74618271b021",
   "metadata": {},
   "source": [
    "## Generate random data"
   ]
  },
  {
   "cell_type": "code",
   "execution_count": 51,
   "id": "49ee3714-bfef-475c-8626-79588e76f03b",
   "metadata": {},
   "outputs": [],
   "source": [
    "import numpy as np\n",
    "\n",
    "def generate_random_data(num_samples, seq_length, range_min, range_max):\n",
    "\t\"\"\"\n",
    "\tGenerate random sequences for training\n",
    "\t\"\"\"\n",
    "\tdata = np.random.randint(range_min, range_max, (num_samples, seq_length))\n",
    "\treturn data"
   ]
  },
  {
   "cell_type": "code",
   "execution_count": 65,
   "id": "374cc8f5-0714-4ace-b1b4-79a5f5f5e901",
   "metadata": {},
   "outputs": [
    {
     "data": {
      "text/plain": [
       "array([[11399, 23766, 11948, ...,  5738, 51141, 40272],\n",
       "       [23238, 38795, 50247, ..., 31550,  6959, 61216],\n",
       "       [ 7543, 49654, 21931, ...,  1703, 34236, 47708],\n",
       "       ...,\n",
       "       [64543, 55658, 36899, ..., 61831, 28841, 25483],\n",
       "       [49146, 58685, 61480, ...,  8030, 51962, 16028],\n",
       "       [13896, 24988, 58395, ..., 14359, 33370, 26083]])"
      ]
     },
     "execution_count": 65,
     "metadata": {},
     "output_type": "execute_result"
    }
   ],
   "source": [
    "data = generate_random_data(10000, 8, 0, 2**16)\n",
    "data"
   ]
  },
  {
   "cell_type": "markdown",
   "id": "d62c1248-09c8-45dc-a6b6-dc8d02945030",
   "metadata": {},
   "source": [
    "## Normalize data"
   ]
  },
  {
   "cell_type": "code",
   "execution_count": 66,
   "id": "101b626b-606c-4ac4-8854-f50ec84742a2",
   "metadata": {},
   "outputs": [],
   "source": [
    "def normalize_data(data, range_min, range_max):\n",
    "\t\"\"\"\n",
    "\tNormalize data to the range [0,1]\n",
    "\t\"\"\"\n",
    "\treturn (data - range_min) / (range_max - range_min)"
   ]
  },
  {
   "cell_type": "code",
   "execution_count": 67,
   "id": "601d9d1b-49ca-42da-8a0d-98cf34f1b064",
   "metadata": {},
   "outputs": [
    {
     "data": {
      "text/plain": [
       "array([[0.17393494, 0.36264038, 0.18231201, ..., 0.08755493, 0.78034973,\n",
       "        0.61450195],\n",
       "       [0.35458374, 0.59196472, 0.76670837, ..., 0.48141479, 0.10618591,\n",
       "        0.93408203],\n",
       "       [0.11509705, 0.75765991, 0.3346405 , ..., 0.02598572, 0.5223999 ,\n",
       "        0.72796631],\n",
       "       ...,\n",
       "       [0.98484802, 0.84927368, 0.56303406, ..., 0.94346619, 0.44007874,\n",
       "        0.38883972],\n",
       "       [0.74990845, 0.89546204, 0.93811035, ..., 0.12252808, 0.7928772 ,\n",
       "        0.24456787],\n",
       "       [0.21203613, 0.38128662, 0.89103699, ..., 0.21910095, 0.50918579,\n",
       "        0.397995  ]])"
      ]
     },
     "execution_count": 67,
     "metadata": {},
     "output_type": "execute_result"
    }
   ],
   "source": [
    "data_norm = normalize_data(data, 0, 2**16)\n",
    "data_norm"
   ]
  },
  {
   "cell_type": "markdown",
   "id": "ecbc64da-6712-421a-81c7-b0d520e2c6e7",
   "metadata": {},
   "source": [
    "## Visualize normalized data"
   ]
  },
  {
   "cell_type": "code",
   "execution_count": 68,
   "id": "f90de76b-a6e7-42df-aaa4-d884de2a7df1",
   "metadata": {},
   "outputs": [],
   "source": [
    "import matplotlib.pyplot as plt\n",
    "\n",
    "def plot_histogram(data, title):\n",
    "\t\"\"\"\n",
    "\tPlot histogram of the data to visulaize its distribution\n",
    "\t\"\"\"\n",
    "\tplt.hist(data.flatten(), bins=50, alpha=0.75, color='green')\n",
    "\tplt.title(title)\n",
    "\tplt.xlabel(\"Value\")\n",
    "\tplt.ylabel(\"Frequency\")\n",
    "\tplt.show()"
   ]
  },
  {
   "cell_type": "code",
   "execution_count": 69,
   "id": "07b71c34-5ad4-4daa-832c-9ecd1387c8e7",
   "metadata": {},
   "outputs": [
    {
     "data": {
      "image/png": "[encoded data removed]",
      "text/plain": [
       "<Figure size 640x480 with 1 Axes>"
      ]
     },
     "metadata": {},
     "output_type": "display_data"
    }
   ],
   "source": [
    "plot_histogram(data_norm, \"Distribution of Normalized Data\")"
   ]
  },
  {
   "cell_type": "markdown",
   "id": "1f90d7a1-4934-4488-abaa-5203583786b4",
   "metadata": {},
   "source": [
    "## Generator"
   ]
  },
  {
   "cell_type": "code",
   "execution_count": 70,
   "id": "37d11c2a-5f93-47bd-bf7d-446c060af6ef",
   "metadata": {},
   "outputs": [],
   "source": [
    "import tensorflow as tf\n",
    "\n",
    "def build_generator(input_dim):\n",
    "\t\"\"\"\n",
    "\tBuilds the generator model\n",
    "\tArgs:\n",
    "\t\tinput_dim (int): Dimension of the input vector [seed + offset]\n",
    "\tReturns:\n",
    "\t\ttf.keras.Model: Generator model\n",
    "\t\"\"\"\n",
    "\tmodel = tf.keras.Sequential([\n",
    "\t\ttf.keras.layers.InputLayer(input_shape=(input_dim,)),  # Input Layer\n",
    "\t\ttf.keras.layers.Dense(30, activation=tf.keras.layers.LeakyReLU(0.2)),\n",
    "\t\ttf.keras.layers.Dense(30, activation=tf.keras.layers.LeakyReLU(0.2)),\n",
    "\t\ttf.keras.layers.Dense(30, activation=tf.keras.layers.LeakyReLU(0.2)),\n",
    "\t\ttf.keras.layers.Dense(8, activation=lambda x: tf.math.mod(x, 1.0))  # Constain outputs\n",
    "\t])\n",
    "\treturn model"
   ]
  },
  {
   "cell_type": "code",
   "execution_count": 72,
   "id": "403cfd0c-8c54-4010-907d-307c76aa7242",
   "metadata": {},
   "outputs": [
    {
     "data": {
      "text/html": [
       "<pre style=\"white-space:pre;overflow-x:auto;line-height:normal;font-family:Menlo,'DejaVu Sans Mono',consolas,'Courier New',monospace\"><span style=\"font-weight: bold\">Model: \"sequential_4\"</span>\n",
       "</pre>\n"
      ],
      "text/plain": [
       "\u001b[1mModel: \"sequential_4\"\u001b[0m\n"
      ]
     },
     "metadata": {},
     "output_type": "display_data"
    },
    {
     "data": {
      "text/html": [
       "<pre style=\"white-space:pre;overflow-x:auto;line-height:normal;font-family:Menlo,'DejaVu Sans Mono',consolas,'Courier New',monospace\">┏━━━━━━━━━━━━━━━━━━━━━━━━━━━━━━━━━┳━━━━━━━━━━━━━━━━━━━━━━━━┳━━━━━━━━━━━━━━━┓\n",
       "┃<span style=\"font-weight: bold\"> Layer (type)                    </span>┃<span style=\"font-weight: bold\"> Output Shape           </span>┃<span style=\"font-weight: bold\">       Param # </span>┃\n",
       "┡━━━━━━━━━━━━━━━━━━━━━━━━━━━━━━━━━╇━━━━━━━━━━━━━━━━━━━━━━━━╇━━━━━━━━━━━━━━━┩\n",
       "│ dense_14 (<span style=\"color: #0087ff; text-decoration-color: #0087ff\">Dense</span>)                │ (<span style=\"color: #00d7ff; text-decoration-color: #00d7ff\">None</span>, <span style=\"color: #00af00; text-decoration-color: #00af00\">30</span>)             │            <span style=\"color: #00af00; text-decoration-color: #00af00\">90</span> │\n",
       "├─────────────────────────────────┼────────────────────────┼───────────────┤\n",
       "│ dense_15 (<span style=\"color: #0087ff; text-decoration-color: #0087ff\">Dense</span>)                │ (<span style=\"color: #00d7ff; text-decoration-color: #00d7ff\">None</span>, <span style=\"color: #00af00; text-decoration-color: #00af00\">30</span>)             │           <span style=\"color: #00af00; text-decoration-color: #00af00\">930</span> │\n",
       "├─────────────────────────────────┼────────────────────────┼───────────────┤\n",
       "│ dense_16 (<span style=\"color: #0087ff; text-decoration-color: #0087ff\">Dense</span>)                │ (<span style=\"color: #00d7ff; text-decoration-color: #00d7ff\">None</span>, <span style=\"color: #00af00; text-decoration-color: #00af00\">30</span>)             │           <span style=\"color: #00af00; text-decoration-color: #00af00\">930</span> │\n",
       "├─────────────────────────────────┼────────────────────────┼───────────────┤\n",
       "│ dense_17 (<span style=\"color: #0087ff; text-decoration-color: #0087ff\">Dense</span>)                │ (<span style=\"color: #00d7ff; text-decoration-color: #00d7ff\">None</span>, <span style=\"color: #00af00; text-decoration-color: #00af00\">8</span>)              │           <span style=\"color: #00af00; text-decoration-color: #00af00\">248</span> │\n",
       "└─────────────────────────────────┴────────────────────────┴───────────────┘\n",
       "</pre>\n"
      ],
      "text/plain": [
       "┏━━━━━━━━━━━━━━━━━━━━━━━━━━━━━━━━━┳━━━━━━━━━━━━━━━━━━━━━━━━┳━━━━━━━━━━━━━━━┓\n",
       "┃\u001b[1m \u001b[0m\u001b[1mLayer (type)                   \u001b[0m\u001b[1m \u001b[0m┃\u001b[1m \u001b[0m\u001b[1mOutput Shape          \u001b[0m\u001b[1m \u001b[0m┃\u001b[1m \u001b[0m\u001b[1m      Param #\u001b[0m\u001b[1m \u001b[0m┃\n",
       "┡━━━━━━━━━━━━━━━━━━━━━━━━━━━━━━━━━╇━━━━━━━━━━━━━━━━━━━━━━━━╇━━━━━━━━━━━━━━━┩\n",
       "│ dense_14 (\u001b[38;5;33mDense\u001b[0m)                │ (\u001b[38;5;45mNone\u001b[0m, \u001b[38;5;34m30\u001b[0m)             │            \u001b[38;5;34m90\u001b[0m │\n",
       "├─────────────────────────────────┼────────────────────────┼───────────────┤\n",
       "│ dense_15 (\u001b[38;5;33mDense\u001b[0m)                │ (\u001b[38;5;45mNone\u001b[0m, \u001b[38;5;34m30\u001b[0m)             │           \u001b[38;5;34m930\u001b[0m │\n",
       "├─────────────────────────────────┼────────────────────────┼───────────────┤\n",
       "│ dense_16 (\u001b[38;5;33mDense\u001b[0m)                │ (\u001b[38;5;45mNone\u001b[0m, \u001b[38;5;34m30\u001b[0m)             │           \u001b[38;5;34m930\u001b[0m │\n",
       "├─────────────────────────────────┼────────────────────────┼───────────────┤\n",
       "│ dense_17 (\u001b[38;5;33mDense\u001b[0m)                │ (\u001b[38;5;45mNone\u001b[0m, \u001b[38;5;34m8\u001b[0m)              │           \u001b[38;5;34m248\u001b[0m │\n",
       "└─────────────────────────────────┴────────────────────────┴───────────────┘\n"
      ]
     },
     "metadata": {},
     "output_type": "display_data"
    },
    {
     "data": {
      "text/html": [
       "<pre style=\"white-space:pre;overflow-x:auto;line-height:normal;font-family:Menlo,'DejaVu Sans Mono',consolas,'Courier New',monospace\"><span style=\"font-weight: bold\"> Total params: </span><span style=\"color: #00af00; text-decoration-color: #00af00\">2,198</span> (8.59 KB)\n",
       "</pre>\n"
      ],
      "text/plain": [
       "\u001b[1m Total params: \u001b[0m\u001b[38;5;34m2,198\u001b[0m (8.59 KB)\n"
      ]
     },
     "metadata": {},
     "output_type": "display_data"
    },
    {
     "data": {
      "text/html": [
       "<pre style=\"white-space:pre;overflow-x:auto;line-height:normal;font-family:Menlo,'DejaVu Sans Mono',consolas,'Courier New',monospace\"><span style=\"font-weight: bold\"> Trainable params: </span><span style=\"color: #00af00; text-decoration-color: #00af00\">2,198</span> (8.59 KB)\n",
       "</pre>\n"
      ],
      "text/plain": [
       "\u001b[1m Trainable params: \u001b[0m\u001b[38;5;34m2,198\u001b[0m (8.59 KB)\n"
      ]
     },
     "metadata": {},
     "output_type": "display_data"
    },
    {
     "data": {
      "text/html": [
       "<pre style=\"white-space:pre;overflow-x:auto;line-height:normal;font-family:Menlo,'DejaVu Sans Mono',consolas,'Courier New',monospace\"><span style=\"font-weight: bold\"> Non-trainable params: </span><span style=\"color: #00af00; text-decoration-color: #00af00\">0</span> (0.00 B)\n",
       "</pre>\n"
      ],
      "text/plain": [
       "\u001b[1m Non-trainable params: \u001b[0m\u001b[38;5;34m0\u001b[0m (0.00 B)\n"
      ]
     },
     "metadata": {},
     "output_type": "display_data"
    }
   ],
   "source": [
    "generator = build_generator(input_dim=2)\n",
    "generator.summary()"
   ]
  },
  {
   "cell_type": "markdown",
   "id": "dd3a8f9b-881b-467b-b495-7df701bc005b",
   "metadata": {},
   "source": [
    "## Discriminator"
   ]
  },
  {
   "cell_type": "code",
   "execution_count": 73,
   "id": "a5fe8002-1768-4630-9858-0679ac761b7d",
   "metadata": {},
   "outputs": [],
   "source": [
    "def build_discriminator(input_dim):\n",
    "\t\"\"\"\n",
    "\tBuilds the discriminator model.\n",
    "\tArgs:\n",
    "\t\tinput_dim (int): Dimension of the input sequence\n",
    "\tReturns:\n",
    "\t\ttf.keras.Model: Discrtiminator model\n",
    "\t\"\"\"\n",
    "\tmodel = tf.keras.Sequential([\n",
    "\t\ttf.keras.layers.InputLayer((input_dim, 1)),  # Input Layer (reshape for convolution)\n",
    "\t\ttf.keras.layers.Conv1D(4, kernel_size=2, strides=1, activation='relu'),\n",
    "\t\ttf.keras.layers.MaxPooling1D(pool_size=2),\n",
    "\t\ttf.keras.layers.Conv1D(4, kernel_size=2, strides=1, activation='relu'),\n",
    "\t\ttf.keras.layers.MaxPooling1D(pool_size=2),\n",
    "\t\ttf.keras.layers.Flatten(),  # Flatten before dense layers\n",
    "\t\ttf.keras.layers.Dense(4, activation='relu'),\n",
    "\t\ttf.keras.layers.Dense(1, activation='sigmoid')  # Output: Real (1) or Fake (0)\n",
    "\t])\n",
    "\treturn model"
   ]
  },
  {
   "cell_type": "code",
   "execution_count": 74,
   "id": "177c1664-5082-481d-96d5-49066b0958c8",
   "metadata": {},
   "outputs": [
    {
     "data": {
      "text/html": [
       "<pre style=\"white-space:pre;overflow-x:auto;line-height:normal;font-family:Menlo,'DejaVu Sans Mono',consolas,'Courier New',monospace\"><span style=\"font-weight: bold\">Model: \"sequential_5\"</span>\n",
       "</pre>\n"
      ],
      "text/plain": [
       "\u001b[1mModel: \"sequential_5\"\u001b[0m\n"
      ]
     },
     "metadata": {},
     "output_type": "display_data"
    },
    {
     "data": {
      "text/html": [
       "<pre style=\"white-space:pre;overflow-x:auto;line-height:normal;font-family:Menlo,'DejaVu Sans Mono',consolas,'Courier New',monospace\">┏━━━━━━━━━━━━━━━━━━━━━━━━━━━━━━━━━┳━━━━━━━━━━━━━━━━━━━━━━━━┳━━━━━━━━━━━━━━━┓\n",
       "┃<span style=\"font-weight: bold\"> Layer (type)                    </span>┃<span style=\"font-weight: bold\"> Output Shape           </span>┃<span style=\"font-weight: bold\">       Param # </span>┃\n",
       "┡━━━━━━━━━━━━━━━━━━━━━━━━━━━━━━━━━╇━━━━━━━━━━━━━━━━━━━━━━━━╇━━━━━━━━━━━━━━━┩\n",
       "│ conv1d_2 (<span style=\"color: #0087ff; text-decoration-color: #0087ff\">Conv1D</span>)               │ (<span style=\"color: #00d7ff; text-decoration-color: #00d7ff\">None</span>, <span style=\"color: #00af00; text-decoration-color: #00af00\">7</span>, <span style=\"color: #00af00; text-decoration-color: #00af00\">4</span>)           │            <span style=\"color: #00af00; text-decoration-color: #00af00\">12</span> │\n",
       "├─────────────────────────────────┼────────────────────────┼───────────────┤\n",
       "│ max_pooling1d_2 (<span style=\"color: #0087ff; text-decoration-color: #0087ff\">MaxPooling1D</span>)  │ (<span style=\"color: #00d7ff; text-decoration-color: #00d7ff\">None</span>, <span style=\"color: #00af00; text-decoration-color: #00af00\">3</span>, <span style=\"color: #00af00; text-decoration-color: #00af00\">4</span>)           │             <span style=\"color: #00af00; text-decoration-color: #00af00\">0</span> │\n",
       "├─────────────────────────────────┼────────────────────────┼───────────────┤\n",
       "│ conv1d_3 (<span style=\"color: #0087ff; text-decoration-color: #0087ff\">Conv1D</span>)               │ (<span style=\"color: #00d7ff; text-decoration-color: #00d7ff\">None</span>, <span style=\"color: #00af00; text-decoration-color: #00af00\">2</span>, <span style=\"color: #00af00; text-decoration-color: #00af00\">4</span>)           │            <span style=\"color: #00af00; text-decoration-color: #00af00\">36</span> │\n",
       "├─────────────────────────────────┼────────────────────────┼───────────────┤\n",
       "│ max_pooling1d_3 (<span style=\"color: #0087ff; text-decoration-color: #0087ff\">MaxPooling1D</span>)  │ (<span style=\"color: #00d7ff; text-decoration-color: #00d7ff\">None</span>, <span style=\"color: #00af00; text-decoration-color: #00af00\">1</span>, <span style=\"color: #00af00; text-decoration-color: #00af00\">4</span>)           │             <span style=\"color: #00af00; text-decoration-color: #00af00\">0</span> │\n",
       "├─────────────────────────────────┼────────────────────────┼───────────────┤\n",
       "│ flatten_1 (<span style=\"color: #0087ff; text-decoration-color: #0087ff\">Flatten</span>)             │ (<span style=\"color: #00d7ff; text-decoration-color: #00d7ff\">None</span>, <span style=\"color: #00af00; text-decoration-color: #00af00\">4</span>)              │             <span style=\"color: #00af00; text-decoration-color: #00af00\">0</span> │\n",
       "├─────────────────────────────────┼────────────────────────┼───────────────┤\n",
       "│ dense_18 (<span style=\"color: #0087ff; text-decoration-color: #0087ff\">Dense</span>)                │ (<span style=\"color: #00d7ff; text-decoration-color: #00d7ff\">None</span>, <span style=\"color: #00af00; text-decoration-color: #00af00\">4</span>)              │            <span style=\"color: #00af00; text-decoration-color: #00af00\">20</span> │\n",
       "├─────────────────────────────────┼────────────────────────┼───────────────┤\n",
       "│ dense_19 (<span style=\"color: #0087ff; text-decoration-color: #0087ff\">Dense</span>)                │ (<span style=\"color: #00d7ff; text-decoration-color: #00d7ff\">None</span>, <span style=\"color: #00af00; text-decoration-color: #00af00\">1</span>)              │             <span style=\"color: #00af00; text-decoration-color: #00af00\">5</span> │\n",
       "└─────────────────────────────────┴────────────────────────┴───────────────┘\n",
       "</pre>\n"
      ],
      "text/plain": [
       "┏━━━━━━━━━━━━━━━━━━━━━━━━━━━━━━━━━┳━━━━━━━━━━━━━━━━━━━━━━━━┳━━━━━━━━━━━━━━━┓\n",
       "┃\u001b[1m \u001b[0m\u001b[1mLayer (type)                   \u001b[0m\u001b[1m \u001b[0m┃\u001b[1m \u001b[0m\u001b[1mOutput Shape          \u001b[0m\u001b[1m \u001b[0m┃\u001b[1m \u001b[0m\u001b[1m      Param #\u001b[0m\u001b[1m \u001b[0m┃\n",
       "┡━━━━━━━━━━━━━━━━━━━━━━━━━━━━━━━━━╇━━━━━━━━━━━━━━━━━━━━━━━━╇━━━━━━━━━━━━━━━┩\n",
       "│ conv1d_2 (\u001b[38;5;33mConv1D\u001b[0m)               │ (\u001b[38;5;45mNone\u001b[0m, \u001b[38;5;34m7\u001b[0m, \u001b[38;5;34m4\u001b[0m)           │            \u001b[38;5;34m12\u001b[0m │\n",
       "├─────────────────────────────────┼────────────────────────┼───────────────┤\n",
       "│ max_pooling1d_2 (\u001b[38;5;33mMaxPooling1D\u001b[0m)  │ (\u001b[38;5;45mNone\u001b[0m, \u001b[38;5;34m3\u001b[0m, \u001b[38;5;34m4\u001b[0m)           │             \u001b[38;5;34m0\u001b[0m │\n",
       "├─────────────────────────────────┼────────────────────────┼───────────────┤\n",
       "│ conv1d_3 (\u001b[38;5;33mConv1D\u001b[0m)               │ (\u001b[38;5;45mNone\u001b[0m, \u001b[38;5;34m2\u001b[0m, \u001b[38;5;34m4\u001b[0m)           │            \u001b[38;5;34m36\u001b[0m │\n",
       "├─────────────────────────────────┼────────────────────────┼───────────────┤\n",
       "│ max_pooling1d_3 (\u001b[38;5;33mMaxPooling1D\u001b[0m)  │ (\u001b[38;5;45mNone\u001b[0m, \u001b[38;5;34m1\u001b[0m, \u001b[38;5;34m4\u001b[0m)           │             \u001b[38;5;34m0\u001b[0m │\n",
       "├─────────────────────────────────┼────────────────────────┼───────────────┤\n",
       "│ flatten_1 (\u001b[38;5;33mFlatten\u001b[0m)             │ (\u001b[38;5;45mNone\u001b[0m, \u001b[38;5;34m4\u001b[0m)              │             \u001b[38;5;34m0\u001b[0m │\n",
       "├─────────────────────────────────┼────────────────────────┼───────────────┤\n",
       "│ dense_18 (\u001b[38;5;33mDense\u001b[0m)                │ (\u001b[38;5;45mNone\u001b[0m, \u001b[38;5;34m4\u001b[0m)              │            \u001b[38;5;34m20\u001b[0m │\n",
       "├─────────────────────────────────┼────────────────────────┼───────────────┤\n",
       "│ dense_19 (\u001b[38;5;33mDense\u001b[0m)                │ (\u001b[38;5;45mNone\u001b[0m, \u001b[38;5;34m1\u001b[0m)              │             \u001b[38;5;34m5\u001b[0m │\n",
       "└─────────────────────────────────┴────────────────────────┴───────────────┘\n"
      ]
     },
     "metadata": {},
     "output_type": "display_data"
    },
    {
     "data": {
      "text/html": [
       "<pre style=\"white-space:pre;overflow-x:auto;line-height:normal;font-family:Menlo,'DejaVu Sans Mono',consolas,'Courier New',monospace\"><span style=\"font-weight: bold\"> Total params: </span><span style=\"color: #00af00; text-decoration-color: #00af00\">73</span> (292.00 B)\n",
       "</pre>\n"
      ],
      "text/plain": [
       "\u001b[1m Total params: \u001b[0m\u001b[38;5;34m73\u001b[0m (292.00 B)\n"
      ]
     },
     "metadata": {},
     "output_type": "display_data"
    },
    {
     "data": {
      "text/html": [
       "<pre style=\"white-space:pre;overflow-x:auto;line-height:normal;font-family:Menlo,'DejaVu Sans Mono',consolas,'Courier New',monospace\"><span style=\"font-weight: bold\"> Trainable params: </span><span style=\"color: #00af00; text-decoration-color: #00af00\">73</span> (292.00 B)\n",
       "</pre>\n"
      ],
      "text/plain": [
       "\u001b[1m Trainable params: \u001b[0m\u001b[38;5;34m73\u001b[0m (292.00 B)\n"
      ]
     },
     "metadata": {},
     "output_type": "display_data"
    },
    {
     "data": {
      "text/html": [
       "<pre style=\"white-space:pre;overflow-x:auto;line-height:normal;font-family:Menlo,'DejaVu Sans Mono',consolas,'Courier New',monospace\"><span style=\"font-weight: bold\"> Non-trainable params: </span><span style=\"color: #00af00; text-decoration-color: #00af00\">0</span> (0.00 B)\n",
       "</pre>\n"
      ],
      "text/plain": [
       "\u001b[1m Non-trainable params: \u001b[0m\u001b[38;5;34m0\u001b[0m (0.00 B)\n"
      ]
     },
     "metadata": {},
     "output_type": "display_data"
    }
   ],
   "source": [
    "discriminator = build_discriminator(input_dim=8)\n",
    "discriminator.summary()"
   ]
  },
  {
   "cell_type": "code",
   "execution_count": 75,
   "id": "6ca208f1-f72f-4e8f-babc-7f7f9652c663",
   "metadata": {},
   "outputs": [],
   "source": [
    "# Generate a random input for the generator \n",
    "seed = tf.random.uniform((1, 1))  # Random seed\n",
    "offset = tf.constant([[0.5]])  # Example offset\n",
    "gen_input = tf.concat([seed, offset], axis=1)  # Combine seed and offset"
   ]
  },
  {
   "cell_type": "code",
   "execution_count": 76,
   "id": "26b1986d-2b56-42d8-bf17-646146548202",
   "metadata": {},
   "outputs": [
    {
     "name": "stdout",
     "output_type": "stream",
     "text": [
      "Generated fake data: [[0.9579294  0.12914465 0.08705177 0.9898894  0.02857297 0.95449686\n",
      "  0.9681391  0.916432  ]]\n"
     ]
    }
   ],
   "source": [
    "# Generate fake data\n",
    "fake_data = generator(gen_input)\n",
    "print(f'Generated fake data: {fake_data.numpy()}')"
   ]
  },
  {
   "cell_type": "code",
   "execution_count": 77,
   "id": "27b5e789-c992-4944-b99b-2a873f36d7a2",
   "metadata": {},
   "outputs": [
    {
     "name": "stdout",
     "output_type": "stream",
     "text": [
      "Discriminator score for real data: [[0.51434505]]\n",
      "Discriminator score for fake data: [[0.52526706]]\n"
     ]
    }
   ],
   "source": [
    "# Test discriminator with real and fake data \n",
    "real_data = tf.random.uniform((1, 8), 0, 1) # Real random data \n",
    "real_score = discriminator(tf.expand_dims(real_data, -1)) # Add channel for Conv1D \n",
    "fake_score = discriminator(tf.expand_dims(fake_data, -1)) \n",
    "print(\"Discriminator score for real data:\", real_score.numpy()) \n",
    "print(\"Discriminator score for fake data:\", fake_score.numpy())"
   ]
  },
  {
   "cell_type": "markdown",
   "id": "d8dcd4bd-eba8-4cea-b628-d1e798d5d547",
   "metadata": {},
   "source": [
    "## Loss"
   ]
  },
  {
   "cell_type": "code",
   "execution_count": 78,
   "id": "24d62d07-af55-4499-a83a-90a25b733ffa",
   "metadata": {},
   "outputs": [],
   "source": [
    "# Binary cross-entropy loss for discriminator and generator\n",
    "cross_entropy = tf.keras.losses.BinaryCrossentropy(from_logits=False)\n",
    "\n",
    "def discriminator_loss(real_output, fake_output):\n",
    "\t\"\"\"\n",
    "\tDiscriminator loss to classify real as 1 and fake as 0\n",
    "\t\"\"\"\n",
    "\treal_loss = cross_entropy(tf.ones_like(real_output), real_output)  # Real -> 1\n",
    "\tfake_loss = cross_entropy(tf.zeros_like(fake_output), fake_output)  # Fake -> 0\n",
    "\treturn real_loss + fake_loss\n",
    "\n",
    "def generator_loss(fake_output):\n",
    "\t\"\"\"\n",
    "\tGenerator loss to fool the discriminator (fake -> 1)\n",
    "\t\"\"\"\n",
    "\treturn cross_entropy(tf.ones_like(fake_output), fake_output)  # Fake -> 1"
   ]
  },
  {
   "cell_type": "markdown",
   "id": "522ce126-5051-4f3e-a71f-8c9b0ac7607d",
   "metadata": {},
   "source": [
    "## Optimzers"
   ]
  },
  {
   "cell_type": "code",
   "execution_count": 79,
   "id": "b4205ffd-3910-4376-b2fb-c236d6ad10cc",
   "metadata": {},
   "outputs": [],
   "source": [
    "# Learning rates for generator and discriminator\n",
    "generator_optimizer = tf.keras.optimizers.Adam(learning_rate=0.0002, beta_1=0.5)\n",
    "discriminator_optimizer = tf.keras.optimizers.Adam(learning_rate=0.0002, beta_1=0.5)"
   ]
  },
  {
   "cell_type": "markdown",
   "id": "4a7c3485-c15f-4ceb-9ed4-df64cb10eb76",
   "metadata": {},
   "source": [
    "## Testing Loss function"
   ]
  },
  {
   "cell_type": "code",
   "execution_count": 80,
   "id": "94f67eeb-40f8-47fa-a802-1d911b4645d4",
   "metadata": {},
   "outputs": [
    {
     "name": "stdout",
     "output_type": "stream",
     "text": [
      "Discriminator Loss: 0.45416128635406494\n",
      "Generator Loss: 1.406705379486084\n"
     ]
    }
   ],
   "source": [
    "# Example real and fake outputs from discriminator\n",
    "real_output = tf.constant([[0.8], [0.9]])   # Discriminator thinks real is likely real\n",
    "fake_output = tf.constant([[0.3], [0.2]])   # Discriminator thinks fake is likely fake\n",
    "\n",
    "# Calculate losses\n",
    "d_loss = discriminator_loss(real_output, fake_output)\n",
    "g_loss = generator_loss(fake_output)\n",
    "\n",
    "print(f'Discriminator Loss: {d_loss.numpy()}')\n",
    "print(f'Generator Loss: {g_loss.numpy()}')"
   ]
  },
  {
   "cell_type": "markdown",
   "id": "a89cb90e-e901-4290-932f-b103e5a04e8b",
   "metadata": {},
   "source": [
    "## Training Loop"
   ]
  },
  {
   "cell_type": "code",
   "execution_count": 81,
   "id": "ac71be47-786c-4b5a-8b54-9ec6a88739e3",
   "metadata": {},
   "outputs": [],
   "source": [
    "import tensorflow as tf\n",
    "import numpy as np\n",
    "\n",
    "@tf.function\n",
    "def train_step(real_data, generator, discriminator, generator_optimizer, discriminator_optimizer):\n",
    "    \"\"\"\n",
    "    Performs a single training step for both generator and discriminator.\n",
    "    \"\"\"\n",
    "    # Generate random seed and offset for the generator\n",
    "    seed = tf.random.uniform((real_data.shape[0], 1), minval=0, maxval=1)\n",
    "    offset = tf.random.uniform((real_data.shape[0], 1), minval=0, maxval=1)\n",
    "    gen_input = tf.concat([seed, offset], axis=1)\n",
    "\n",
    "    # Gradient updates for the discriminator\n",
    "    with tf.GradientTape() as disc_tape:\n",
    "        fake_data = generator(gen_input, training=True)\n",
    "        real_output = discriminator(tf.expand_dims(real_data, -1), training=True)\n",
    "        fake_output = discriminator(tf.expand_dims(fake_data, -1), training=True)\n",
    "        d_loss = discriminator_loss(real_output, fake_output)\n",
    "    gradients_of_discriminator = disc_tape.gradient(d_loss, discriminator.trainable_variables)\n",
    "    discriminator_optimizer.apply_gradients(zip(gradients_of_discriminator, discriminator.trainable_variables))\n",
    "\n",
    "    # Gradient updates for the generator\n",
    "    with tf.GradientTape() as gen_tape:\n",
    "        fake_data = generator(gen_input, training=True)\n",
    "        fake_output = discriminator(tf.expand_dims(fake_data, -1), training=True)\n",
    "        g_loss = generator_loss(fake_output)\n",
    "    gradients_of_generator = gen_tape.gradient(g_loss, generator.trainable_variables)\n",
    "    generator_optimizer.apply_gradients(zip(gradients_of_generator, generator.trainable_variables))\n",
    "\n",
    "    return d_loss, g_loss\n"
   ]
  },
  {
   "cell_type": "code",
   "execution_count": 82,
   "id": "1a3ff8f4-fb7e-4ff7-867d-3b03e7638118",
   "metadata": {},
   "outputs": [],
   "source": [
    "def train_gan(generator, discriminator, data, generator_optimizer, discriminator_optimizer, epochs, batch_size):\n",
    "    \"\"\"\n",
    "    Trains the GAN for a specified number of epochs.\n",
    "    \"\"\"\n",
    "    dataset = tf.data.Dataset.from_tensor_slices(data).shuffle(buffer_size=1024).batch(batch_size)\n",
    "\n",
    "    for epoch in range(epochs):\n",
    "        print(f\"Epoch {epoch+1}/{epochs}\")\n",
    "        for real_data in dataset:\n",
    "            d_loss, g_loss = train_step(real_data, generator, discriminator, generator_optimizer, discriminator_optimizer)\n",
    "\n",
    "        print(f\"Discriminator Loss: {d_loss.numpy()}, Generator Loss: {g_loss.numpy()}\")"
   ]
  },
  {
   "cell_type": "code",
   "execution_count": 83,
   "id": "342cc270-d4ac-47f5-9d70-1844e5122045",
   "metadata": {},
   "outputs": [],
   "source": [
    "# Generate normalized random data\n",
    "random_data = generate_random_data(10000, 8, 0, 2**16)\n",
    "normalized_data = normalize_data(random_data, 0, 2**16)"
   ]
  },
  {
   "cell_type": "code",
   "execution_count": 88,
   "id": "8280a414-155a-420d-b3fd-ba07ac7a7c94",
   "metadata": {
    "scrolled": true
   },
   "outputs": [
    {
     "name": "stdout",
     "output_type": "stream",
     "text": [
      "Epoch 1/100\n",
      "Discriminator Loss: 0.032715629786252975, Generator Loss: 5.269298553466797\n",
      "Epoch 2/100\n",
      "Discriminator Loss: 0.06605032831430435, Generator Loss: 4.906110763549805\n",
      "Epoch 3/100\n",
      "Discriminator Loss: 0.006558879278600216, Generator Loss: 5.421892166137695\n",
      "Epoch 4/100\n",
      "Discriminator Loss: 0.005610071122646332, Generator Loss: 5.504515647888184\n",
      "Epoch 5/100\n",
      "Discriminator Loss: 0.026425324380397797, Generator Loss: 5.392353057861328\n",
      "Epoch 6/100\n",
      "Discriminator Loss: 0.004877495113760233, Generator Loss: 5.635478496551514\n",
      "Epoch 7/100\n",
      "Discriminator Loss: 0.007140283472836018, Generator Loss: 5.744602203369141\n",
      "Epoch 8/100\n",
      "Discriminator Loss: 0.00587331410497427, Generator Loss: 5.639960289001465\n",
      "Epoch 9/100\n",
      "Discriminator Loss: 0.00469434168189764, Generator Loss: 5.717818260192871\n",
      "Epoch 10/100\n",
      "Discriminator Loss: 0.028806110844016075, Generator Loss: 5.4617486000061035\n",
      "Epoch 11/100\n",
      "Discriminator Loss: 0.003865031059831381, Generator Loss: 5.798145771026611\n",
      "Epoch 12/100\n",
      "Discriminator Loss: 0.003574371337890625, Generator Loss: 5.815593242645264\n",
      "Epoch 13/100\n",
      "Discriminator Loss: 0.0035168426111340523, Generator Loss: 5.816798686981201\n",
      "Epoch 14/100\n",
      "Discriminator Loss: 0.002927308203652501, Generator Loss: 5.847349166870117\n",
      "Epoch 15/100\n",
      "Discriminator Loss: 0.0031957877799868584, Generator Loss: 5.9015703201293945\n",
      "Epoch 16/100\n",
      "Discriminator Loss: 0.00832168199121952, Generator Loss: 5.960939884185791\n",
      "Epoch 17/100\n",
      "Discriminator Loss: 0.0028873635455965996, Generator Loss: 6.0426435470581055\n",
      "Epoch 18/100\n",
      "Discriminator Loss: 0.0022402063477784395, Generator Loss: 6.11932897567749\n",
      "Epoch 19/100\n",
      "Discriminator Loss: 0.002095734467729926, Generator Loss: 6.197336196899414\n",
      "Epoch 20/100\n",
      "Discriminator Loss: 0.00189307052642107, Generator Loss: 6.2822370529174805\n",
      "Epoch 21/100\n",
      "Discriminator Loss: 0.0023381970822811127, Generator Loss: 6.365875244140625\n",
      "Epoch 22/100\n",
      "Discriminator Loss: 0.001853933441452682, Generator Loss: 6.450141906738281\n",
      "Epoch 23/100\n",
      "Discriminator Loss: 0.0014896091306582093, Generator Loss: 6.530300617218018\n",
      "Epoch 24/100\n",
      "Discriminator Loss: 0.0015803708229213953, Generator Loss: 6.611078262329102\n",
      "Epoch 25/100\n",
      "Discriminator Loss: 0.0013088046107441187, Generator Loss: 6.690614223480225\n",
      "Epoch 26/100\n",
      "Discriminator Loss: 0.0012686853297054768, Generator Loss: 6.7687201499938965\n",
      "Epoch 27/100\n",
      "Discriminator Loss: 0.0010711507638916373, Generator Loss: 6.844229698181152\n",
      "Epoch 28/100\n"
     ]
    },
    {
     "name": "stderr",
     "output_type": "stream",
     "text": [
      "2025-01-01 23:29:20.156042: I tensorflow/core/framework/local_rendezvous.cc:405] Local rendezvous is aborting with status: OUT_OF_RANGE: End of sequence\n"
     ]
    },
    {
     "name": "stdout",
     "output_type": "stream",
     "text": [
      "Discriminator Loss: 0.0009930582018569112, Generator Loss: 6.920587539672852\n",
      "Epoch 29/100\n",
      "Discriminator Loss: 0.000946001906413585, Generator Loss: 7.003106117248535\n",
      "Epoch 30/100\n",
      "Discriminator Loss: 0.0008574592065997422, Generator Loss: 7.067185878753662\n",
      "Epoch 31/100\n",
      "Discriminator Loss: 0.0008034845814108849, Generator Loss: 7.137770652770996\n",
      "Epoch 32/100\n",
      "Discriminator Loss: 0.0007556327618658543, Generator Loss: 7.202399730682373\n",
      "Epoch 33/100\n",
      "Discriminator Loss: 0.0006960683385841548, Generator Loss: 7.275539398193359\n",
      "Epoch 34/100\n",
      "Discriminator Loss: 0.0007155784405767918, Generator Loss: 7.3439717292785645\n",
      "Epoch 35/100\n",
      "Discriminator Loss: 0.0006090663373470306, Generator Loss: 7.410736560821533\n",
      "Epoch 36/100\n",
      "Discriminator Loss: 0.0005688312230631709, Generator Loss: 7.475977897644043\n",
      "Epoch 37/100\n",
      "Discriminator Loss: 0.0005367432022467256, Generator Loss: 7.5347700119018555\n",
      "Epoch 38/100\n",
      "Discriminator Loss: 0.0006854858947917819, Generator Loss: 7.598392009735107\n",
      "Epoch 39/100\n",
      "Discriminator Loss: 0.00047081185039132833, Generator Loss: 7.6627936363220215\n",
      "Epoch 40/100\n",
      "Discriminator Loss: 0.0004430438857525587, Generator Loss: 7.724490642547607\n",
      "Epoch 41/100\n",
      "Discriminator Loss: 0.00041935560875572264, Generator Loss: 7.7792582511901855\n",
      "Epoch 42/100\n",
      "Discriminator Loss: 0.00039557297714054585, Generator Loss: 7.841271877288818\n",
      "Epoch 43/100\n",
      "Discriminator Loss: 0.00038760763709433377, Generator Loss: 7.898646831512451\n",
      "Epoch 44/100\n",
      "Discriminator Loss: 0.00035935972118750215, Generator Loss: 7.938640117645264\n",
      "Epoch 45/100\n",
      "Discriminator Loss: 0.00033982243621721864, Generator Loss: 7.990159034729004\n",
      "Epoch 46/100\n",
      "Discriminator Loss: 0.0003022546006832272, Generator Loss: 8.109234809875488\n",
      "Epoch 47/100\n",
      "Discriminator Loss: 0.00028110964922234416, Generator Loss: 8.140789031982422\n",
      "Epoch 48/100\n",
      "Discriminator Loss: 0.00027511053485795856, Generator Loss: 8.207262992858887\n",
      "Epoch 49/100\n",
      "Discriminator Loss: 0.000260151777183637, Generator Loss: 8.262530326843262\n",
      "Epoch 50/100\n",
      "Discriminator Loss: 0.00025040609762072563, Generator Loss: 8.285382270812988\n",
      "Epoch 51/100\n",
      "Discriminator Loss: 0.00023770693223923445, Generator Loss: 8.361786842346191\n",
      "Epoch 52/100\n",
      "Discriminator Loss: 0.0002249510434921831, Generator Loss: 8.404064178466797\n",
      "Epoch 53/100\n",
      "Discriminator Loss: 0.00023155755479820073, Generator Loss: 8.437782287597656\n",
      "Epoch 54/100\n",
      "Discriminator Loss: 0.00019921244529541582, Generator Loss: 8.500598907470703\n",
      "Epoch 55/100\n",
      "Discriminator Loss: 0.00020082664559595287, Generator Loss: 8.517359733581543\n",
      "Epoch 56/100\n",
      "Discriminator Loss: 0.0001934853644343093, Generator Loss: 8.544821739196777\n",
      "Epoch 57/100\n",
      "Discriminator Loss: 0.00018120954337064177, Generator Loss: 8.619762420654297\n",
      "Epoch 58/100\n",
      "Discriminator Loss: 0.00017153230146504939, Generator Loss: 8.675156593322754\n",
      "Epoch 59/100\n",
      "Discriminator Loss: 0.00016571875312365592, Generator Loss: 8.683343887329102\n",
      "Epoch 60/100\n",
      "Discriminator Loss: 0.00016458805475849658, Generator Loss: 8.714815139770508\n",
      "Epoch 61/100\n",
      "Discriminator Loss: 0.00016003391647245735, Generator Loss: 8.745835304260254\n",
      "Epoch 62/100\n",
      "Discriminator Loss: 0.00015328724111896008, Generator Loss: 8.783668518066406\n",
      "Epoch 63/100\n",
      "Discriminator Loss: 0.00014998242841102183, Generator Loss: 8.811139106750488\n",
      "Epoch 64/100\n",
      "Discriminator Loss: 0.0001426372618880123, Generator Loss: 8.845776557922363\n",
      "Epoch 65/100\n",
      "Discriminator Loss: 0.00014006921264808625, Generator Loss: 8.877208709716797\n",
      "Epoch 66/100\n",
      "Discriminator Loss: 0.00013237634266261011, Generator Loss: 8.934309005737305\n",
      "Epoch 67/100\n",
      "Discriminator Loss: 0.00012825732119381428, Generator Loss: 8.964970588684082\n",
      "Epoch 68/100\n",
      "Discriminator Loss: 0.00012684290413744748, Generator Loss: 8.975966453552246\n",
      "Epoch 69/100\n",
      "Discriminator Loss: 0.0001302519958699122, Generator Loss: 8.951025009155273\n",
      "Epoch 70/100\n",
      "Discriminator Loss: 0.00011795579484896734, Generator Loss: 9.04886531829834\n",
      "Epoch 71/100\n",
      "Discriminator Loss: 0.00011267237277934328, Generator Loss: 9.096370697021484\n",
      "Epoch 72/100\n",
      "Discriminator Loss: 0.00011136501416331157, Generator Loss: 9.106143951416016\n",
      "Epoch 73/100\n",
      "Discriminator Loss: 0.00011196523701073602, Generator Loss: 9.100975036621094\n",
      "Epoch 74/100\n",
      "Discriminator Loss: 0.00010012210987042636, Generator Loss: 9.212554931640625\n",
      "Epoch 75/100\n",
      "Discriminator Loss: 9.592549031367525e-05, Generator Loss: 9.25550651550293\n",
      "Epoch 76/100\n",
      "Discriminator Loss: 9.508451330475509e-05, Generator Loss: 9.258665084838867\n",
      "Epoch 77/100\n",
      "Discriminator Loss: 9.150165715254843e-05, Generator Loss: 9.302449226379395\n",
      "Epoch 78/100\n",
      "Discriminator Loss: 8.928301394917071e-05, Generator Loss: 9.32632064819336\n",
      "Epoch 79/100\n",
      "Discriminator Loss: 8.480464748572558e-05, Generator Loss: 9.378891944885254\n",
      "Epoch 80/100\n",
      "Discriminator Loss: 8.165852341335267e-05, Generator Loss: 9.416357040405273\n",
      "Epoch 81/100\n",
      "Discriminator Loss: 7.959889626363292e-05, Generator Loss: 9.434988975524902\n",
      "Epoch 82/100\n",
      "Discriminator Loss: 7.659139373572543e-05, Generator Loss: 9.480567932128906\n",
      "Epoch 83/100\n",
      "Discriminator Loss: 7.406113581964746e-05, Generator Loss: 9.514153480529785\n",
      "Epoch 84/100\n",
      "Discriminator Loss: 6.552851846208796e-05, Generator Loss: 9.581526756286621\n",
      "Epoch 85/100\n",
      "Discriminator Loss: 6.93645779392682e-05, Generator Loss: 9.57797908782959\n",
      "Epoch 86/100\n",
      "Discriminator Loss: 6.630985444644466e-05, Generator Loss: 9.624513626098633\n",
      "Epoch 87/100\n",
      "Discriminator Loss: 6.366448360495269e-05, Generator Loss: 9.665239334106445\n",
      "Epoch 88/100\n",
      "Discriminator Loss: 6.066201240173541e-05, Generator Loss: 9.713578224182129\n",
      "Epoch 89/100\n",
      "Discriminator Loss: 5.799883001600392e-05, Generator Loss: 9.758427619934082\n",
      "Epoch 90/100\n",
      "Discriminator Loss: 5.631117892335169e-05, Generator Loss: 9.7746000289917\n",
      "Epoch 91/100\n",
      "Discriminator Loss: 5.486569716595113e-05, Generator Loss: 9.806909561157227\n",
      "Epoch 92/100\n",
      "Discriminator Loss: 5.342670192476362e-05, Generator Loss: 9.840476036071777\n",
      "Epoch 93/100\n",
      "Discriminator Loss: 4.7402583732036874e-05, Generator Loss: 9.92746639251709\n",
      "Epoch 94/100\n",
      "Discriminator Loss: 4.92902472615242e-05, Generator Loss: 9.92101001739502\n",
      "Epoch 95/100\n",
      "Discriminator Loss: 4.728091153083369e-05, Generator Loss: 9.961050987243652\n",
      "Epoch 96/100\n",
      "Discriminator Loss: 4.46361445938237e-05, Generator Loss: 10.020393371582031\n",
      "Epoch 97/100\n",
      "Discriminator Loss: 4.291930963518098e-05, Generator Loss: 10.059617042541504\n",
      "Epoch 98/100\n",
      "Discriminator Loss: 4.0773458749754354e-05, Generator Loss: 10.112320899963379\n",
      "Epoch 99/100\n",
      "Discriminator Loss: 3.952406768803485e-05, Generator Loss: 10.142007827758789\n",
      "Epoch 100/100\n",
      "Discriminator Loss: 3.813877992797643e-05, Generator Loss: 10.178165435791016\n"
     ]
    }
   ],
   "source": [
    "# Train the GAN\n",
    "train_gan(\n",
    "    generator,\n",
    "    discriminator,\n",
    "    normalized_data,\n",
    "    generator_optimizer,\n",
    "    discriminator_optimizer,\n",
    "    epochs=100,  # Adjust as needed\n",
    "    batch_size=64\n",
    ")"
   ]
  },
  {
   "cell_type": "markdown",
   "id": "ba3157f5-8846-4e3a-b361-8d80c3eac2c0",
   "metadata": {},
   "source": [
    "## Evaluate"
   ]
  },
  {
   "cell_type": "code",
   "execution_count": 89,
   "id": "2fcea529-0e71-4086-a7e2-c69bb82a78f9",
   "metadata": {},
   "outputs": [
    {
     "data": {
      "image/png": "[encoded data removed]",
      "text/plain": [
       "<Figure size 640x480 with 1 Axes>"
      ]
     },
     "metadata": {},
     "output_type": "display_data"
    }
   ],
   "source": [
    "# Generate random inputs for the generator\n",
    "num_samples = 1000\n",
    "seed = tf.random.uniform((num_samples, 1), minval=0, maxval=1)\n",
    "offset = tf.random.uniform((num_samples, 1), minval=0, maxval=1)\n",
    "gen_input = tf.concat([seed, offset], axis=1)\n",
    "\n",
    "# Generate fake data\n",
    "fake_data = generator(gen_input, training=False)\n",
    "\n",
    "# Visualize the output\n",
    "import matplotlib.pyplot as plt\n",
    "\n",
    "plt.hist(fake_data.numpy().flatten(), bins=50, alpha=0.7, color='blue', label='Generated Data')\n",
    "plt.title(\"Distribution of Generator Output\")\n",
    "plt.xlabel(\"Value\")\n",
    "plt.ylabel(\"Frequency\")\n",
    "plt.legend()\n",
    "plt.show()"
   ]
  },
  {
   "cell_type": "markdown",
   "id": "a7b2795c-132f-4705-8ffb-63dfc305d5eb",
   "metadata": {},
   "source": [
    "## Validate randomness"
   ]
  },
  {
   "cell_type": "code",
   "execution_count": 90,
   "id": "e5381b27-45e9-4e96-b1b9-2f46c90dbca6",
   "metadata": {},
   "outputs": [
    {
     "name": "stdout",
     "output_type": "stream",
     "text": [
      "Mean of generated data: 0.05655859410762787\n",
      "Variance of generated data: 0.03252292051911354\n",
      "KS Statistic: 0.885125, P-value: 0.0\n",
      "Generated data does not appear uniformly distributed (p <= 0.05).\n"
     ]
    }
   ],
   "source": [
    "# Compute basic statistics\n",
    "mean = tf.reduce_mean(fake_data).numpy()\n",
    "variance = tf.math.reduce_variance(fake_data).numpy()\n",
    "print(f\"Mean of generated data: {mean}\")\n",
    "print(f\"Variance of generated data: {variance}\")\n",
    "\n",
    "# Perform a Kolmogorov-Smirnov (KS) test for uniformity\n",
    "from scipy.stats import kstest\n",
    "\n",
    "flat_data = fake_data.numpy().flatten()\n",
    "ks_stat, ks_p_value = kstest(flat_data, 'uniform', args=(0, 1))  # Check against uniform distribution\n",
    "print(f\"KS Statistic: {ks_stat}, P-value: {ks_p_value}\")\n",
    "\n",
    "if ks_p_value > 0.05:\n",
    "    print(\"Generated data appears to be uniformly distributed (p > 0.05).\")\n",
    "else:\n",
    "    print(\"Generated data does not appear uniformly distributed (p <= 0.05).\")"
   ]
  },
  {
   "cell_type": "markdown",
   "id": "ecea71bd-67e9-4010-b390-ab15136af9b6",
   "metadata": {},
   "source": [
    "## Converts Output -> Binary"
   ]
  },
  {
   "cell_type": "code",
   "execution_count": 87,
   "id": "cc0dc2ab-97ba-4e4d-bac2-81864bb46ca8",
   "metadata": {},
   "outputs": [
    {
     "name": "stdout",
     "output_type": "stream",
     "text": [
      "Binary data saved to 'generated_data.bin'\n"
     ]
    }
   ],
   "source": [
    "# Convert generated data to binary (16-bit integers)\n",
    "def float_to_binary(data, bit_length=16):\n",
    "    \"\"\"\n",
    "    Converts normalized float data to binary representation.\n",
    "    \"\"\"\n",
    "    int_data = (data.numpy() * (2**bit_length - 1)).astype(int)\n",
    "    binary_data = ''.join(f\"{x:016b}\" for x in int_data.flatten())\n",
    "    return binary_data\n",
    "\n",
    "binary_data = float_to_binary(fake_data)\n",
    "with open(\"generated_data.bin\", \"w\") as f:\n",
    "    f.write(binary_data)\n",
    "print(\"Binary data saved to 'generated_data.bin'\")"
   ]
  },
  {
   "cell_type": "code",
   "execution_count": null,
   "id": "15cc02c9-007c-4732-8e5c-be92756ba2df",
   "metadata": {},
   "outputs": [],
   "source": []
  }
 ],
 "metadata": {
  "kernelspec": {
   "display_name": "Python 3 (ipykernel)",
   "language": "python",
   "name": "python3"
  },
  "language_info": {
   "codemirror_mode": {
    "name": "ipython",
    "version": 3
   },
   "file_extension": ".py",
   "mimetype": "text/x-python",
   "name": "python",
   "nbconvert_exporter": "python",
   "pygments_lexer": "ipython3",
   "version": "3.11.2"
  }
 },
 "nbformat": 4,
 "nbformat_minor": 5
}
