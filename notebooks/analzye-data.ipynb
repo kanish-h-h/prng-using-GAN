{
 "cells": [
  {
   "cell_type": "markdown",
   "id": "486c9252-3ac2-407b-bcae-74618271b021",
   "metadata": {},
   "source": [
    "## Generate random data"
   ]
  },
  {
   "cell_type": "code",
   "execution_count": 51,
   "id": "49ee3714-bfef-475c-8626-79588e76f03b",
   "metadata": {},
   "outputs": [],
   "source": [
    "import numpy as np\n",
    "\n",
    "def generate_random_data(num_samples, seq_length, range_min, range_max):\n",
    "\t\"\"\"\n",
    "\tGenerate random sequences for training\n",
    "\t\"\"\"\n",
    "\tdata = np.random.randint(range_min, range_max, (num_samples, seq_length))\n",
    "\treturn data"
   ]
  },
  {
   "cell_type": "code",
   "execution_count": 65,
   "id": "374cc8f5-0714-4ace-b1b4-79a5f5f5e901",
   "metadata": {},
   "outputs": [
    {
     "data": {
      "text/plain": [
       "array([[11399, 23766, 11948, ...,  5738, 51141, 40272],\n",
       "       [23238, 38795, 50247, ..., 31550,  6959, 61216],\n",
       "       [ 7543, 49654, 21931, ...,  1703, 34236, 47708],\n",
       "       ...,\n",
       "       [64543, 55658, 36899, ..., 61831, 28841, 25483],\n",
       "       [49146, 58685, 61480, ...,  8030, 51962, 16028],\n",
       "       [13896, 24988, 58395, ..., 14359, 33370, 26083]])"
      ]
     },
     "execution_count": 65,
     "metadata": {},
     "output_type": "execute_result"
    }
   ],
   "source": [
    "data = generate_random_data(10000, 8, 0, 2**16)\n",
    "data"
   ]
  },
  {
   "cell_type": "markdown",
   "id": "d62c1248-09c8-45dc-a6b6-dc8d02945030",
   "metadata": {},
   "source": [
    "## Normalize data"
   ]
  },
  {
   "cell_type": "code",
   "execution_count": 66,
   "id": "101b626b-606c-4ac4-8854-f50ec84742a2",
   "metadata": {},
   "outputs": [],
   "source": [
    "def normalize_data(data, range_min, range_max):\n",
    "\t\"\"\"\n",
    "\tNormalize data to the range [0,1]\n",
    "\t\"\"\"\n",
    "\treturn (data - range_min) / (range_max - range_min)"
   ]
  },
  {
   "cell_type": "code",
   "execution_count": 67,
   "id": "601d9d1b-49ca-42da-8a0d-98cf34f1b064",
   "metadata": {},
   "outputs": [
    {
     "data": {
      "text/plain": [
       "array([[0.17393494, 0.36264038, 0.18231201, ..., 0.08755493, 0.78034973,\n",
       "        0.61450195],\n",
       "       [0.35458374, 0.59196472, 0.76670837, ..., 0.48141479, 0.10618591,\n",
       "        0.93408203],\n",
       "       [0.11509705, 0.75765991, 0.3346405 , ..., 0.02598572, 0.5223999 ,\n",
       "        0.72796631],\n",
       "       ...,\n",
       "       [0.98484802, 0.84927368, 0.56303406, ..., 0.94346619, 0.44007874,\n",
       "        0.38883972],\n",
       "       [0.74990845, 0.89546204, 0.93811035, ..., 0.12252808, 0.7928772 ,\n",
       "        0.24456787],\n",
       "       [0.21203613, 0.38128662, 0.89103699, ..., 0.21910095, 0.50918579,\n",
       "        0.397995  ]])"
      ]
     },
     "execution_count": 67,
     "metadata": {},
     "output_type": "execute_result"
    }
   ],
   "source": [
    "data_norm = normalize_data(data, 0, 2**16)\n",
    "data_norm"
   ]
  },
  {
   "cell_type": "markdown",
   "id": "ecbc64da-6712-421a-81c7-b0d520e2c6e7",
   "metadata": {},
   "source": [
    "## Visualize normalized data"
   ]
  },
  {
   "cell_type": "code",
   "execution_count": 68,
   "id": "f90de76b-a6e7-42df-aaa4-d884de2a7df1",
   "metadata": {},
   "outputs": [],
   "source": [
    "import matplotlib.pyplot as plt\n",
    "\n",
    "def plot_histogram(data, title):\n",
    "\t\"\"\"\n",
    "\tPlot histogram of the data to visulaize its distribution\n",
    "\t\"\"\"\n",
    "\tplt.hist(data.flatten(), bins=50, alpha=0.75, color='green')\n",
    "\tplt.title(title)\n",
    "\tplt.xlabel(\"Value\")\n",
    "\tplt.ylabel(\"Frequency\")\n",
    "\tplt.show()"
   ]
  },
  {
   "cell_type": "code",
   "execution_count": 69,
   "id": "07b71c34-5ad4-4daa-832c-9ecd1387c8e7",
   "metadata": {},
   "outputs": [
    {
     "data": {
      "image/png": "[encoded data removed]",
      "text/plain": [
       "<Figure size 640x480 with 1 Axes>"
      ]
     },
     "metadata": {},
     "output_type": "display_data"
    }
   ],
   "source": [
    "plot_histogram(data_norm, \"Distribution of Normalized Data\")"
   ]
  },
  {
   "cell_type": "markdown",
   "id": "1f90d7a1-4934-4488-abaa-5203583786b4",
   "metadata": {},
   "source": [
    "## Generator"
   ]
  },
  {
   "cell_type": "code",
   "execution_count": 70,
   "id": "37d11c2a-5f93-47bd-bf7d-446c060af6ef",
   "metadata": {},
   "outputs": [],
   "source": [
    "import tensorflow as tf\n",
    "\n",
    "def build_generator(input_dim):\n",
    "\t\"\"\"\n",
    "\tBuilds the generator model\n",
    "\tArgs:\n",
    "\t\tinput_dim (int): Dimension of the input vector [seed + offset]\n",
    "\tReturns:\n",
    "\t\ttf.keras.Model: Generator model\n",
    "\t\"\"\"\n",
    "\tmodel = tf.keras.Sequential([\n",
    "\t\ttf.keras.layers.InputLayer(input_shape=(input_dim,)),  # Input Layer\n",
    "\t\ttf.keras.layers.Dense(30, activation=tf.keras.layers.LeakyReLU(0.2)),\n",
    "\t\ttf.keras.layers.Dense(30, activation=tf.keras.layers.LeakyReLU(0.2)),\n",
    "\t\ttf.keras.layers.Dense(30, activation=tf.keras.layers.LeakyReLU(0.2)),\n",
    "\t\ttf.keras.layers.Dense(8, activation=lambda x: tf.math.mod(x, 1.0))  # Constain outputs\n",
    "\t])\n",
    "\treturn model"
   ]
  },
  {
   "cell_type": "code",
   "execution_count": 72,
   "id": "403cfd0c-8c54-4010-907d-307c76aa7242",
   "metadata": {},
   "outputs": [
    {
     "data": {
      "text/html": [
       "<pre style=\"white-space:pre;overflow-x:auto;line-height:normal;font-family:Menlo,'DejaVu Sans Mono',consolas,'Courier New',monospace\"><span style=\"font-weight: bold\">Model: \"sequential_4\"</span>\n",
       "</pre>\n"
      ],
      "text/plain": [
       "\u001b[1mModel: \"sequential_4\"\u001b[0m\n"
      ]
     },
     "metadata": {},
     "output_type": "display_data"
    },
    {
     "data": {
      "text/html": [
       "<pre style=\"white-space:pre;overflow-x:auto;line-height:normal;font-family:Menlo,'DejaVu Sans Mono',consolas,'Courier New',monospace\">┏━━━━━━━━━━━━━━━━━━━━━━━━━━━━━━━━━┳━━━━━━━━━━━━━━━━━━━━━━━━┳━━━━━━━━━━━━━━━┓\n",
       "┃<span style=\"font-weight: bold\"> Layer (type)                    </span>┃<span style=\"font-weight: bold\"> Output Shape           </span>┃<span style=\"font-weight: bold\">       Param # </span>┃\n",
       "┡━━━━━━━━━━━━━━━━━━━━━━━━━━━━━━━━━╇━━━━━━━━━━━━━━━━━━━━━━━━╇━━━━━━━━━━━━━━━┩\n",
       "│ dense_14 (<span style=\"color: #0087ff; text-decoration-color: #0087ff\">Dense</span>)                │ (<span style=\"color: #00d7ff; text-decoration-color: #00d7ff\">None</span>, <span style=\"color: #00af00; text-decoration-color: #00af00\">30</span>)             │            <span style=\"color: #00af00; text-decoration-color: #00af00\">90</span> │\n",
       "├─────────────────────────────────┼────────────────────────┼───────────────┤\n",
       "│ dense_15 (<span style=\"color: #0087ff; text-decoration-color: #0087ff\">Dense</span>)                │ (<span style=\"color: #00d7ff; text-decoration-color: #00d7ff\">None</span>, <span style=\"color: #00af00; text-decoration-color: #00af00\">30</span>)             │           <span style=\"color: #00af00; text-decoration-color: #00af00\">930</span> │\n",
       "├─────────────────────────────────┼────────────────────────┼───────────────┤\n",
       "│ dense_16 (<span style=\"color: #0087ff; text-decoration-color: #0087ff\">Dense</span>)                │ (<span style=\"color: #00d7ff; text-decoration-color: #00d7ff\">None</span>, <span style=\"color: #00af00; text-decoration-color: #00af00\">30</span>)             │           <span style=\"color: #00af00; text-decoration-color: #00af00\">930</span> │\n",
       "├─────────────────────────────────┼────────────────────────┼───────────────┤\n",
       "│ dense_17 (<span style=\"color: #0087ff; text-decoration-color: #0087ff\">Dense</span>)                │ (<span style=\"color: #00d7ff; text-decoration-color: #00d7ff\">None</span>, <span style=\"color: #00af00; text-decoration-color: #00af00\">8</span>)              │           <span style=\"color: #00af00; text-decoration-color: #00af00\">248</span> │\n",
       "└─────────────────────────────────┴────────────────────────┴───────────────┘\n",
       "</pre>\n"
      ],
      "text/plain": [
       "┏━━━━━━━━━━━━━━━━━━━━━━━━━━━━━━━━━┳━━━━━━━━━━━━━━━━━━━━━━━━┳━━━━━━━━━━━━━━━┓\n",
       "┃\u001b[1m \u001b[0m\u001b[1mLayer (type)                   \u001b[0m\u001b[1m \u001b[0m┃\u001b[1m \u001b[0m\u001b[1mOutput Shape          \u001b[0m\u001b[1m \u001b[0m┃\u001b[1m \u001b[0m\u001b[1m      Param #\u001b[0m\u001b[1m \u001b[0m┃\n",
       "┡━━━━━━━━━━━━━━━━━━━━━━━━━━━━━━━━━╇━━━━━━━━━━━━━━━━━━━━━━━━╇━━━━━━━━━━━━━━━┩\n",
       "│ dense_14 (\u001b[38;5;33mDense\u001b[0m)                │ (\u001b[38;5;45mNone\u001b[0m, \u001b[38;5;34m30\u001b[0m)             │            \u001b[38;5;34m90\u001b[0m │\n",
       "├─────────────────────────────────┼────────────────────────┼───────────────┤\n",
       "│ dense_15 (\u001b[38;5;33mDense\u001b[0m)                │ (\u001b[38;5;45mNone\u001b[0m, \u001b[38;5;34m30\u001b[0m)             │           \u001b[38;5;34m930\u001b[0m │\n",
       "├─────────────────────────────────┼────────────────────────┼───────────────┤\n",
       "│ dense_16 (\u001b[38;5;33mDense\u001b[0m)                │ (\u001b[38;5;45mNone\u001b[0m, \u001b[38;5;34m30\u001b[0m)             │           \u001b[38;5;34m930\u001b[0m │\n",
       "├─────────────────────────────────┼────────────────────────┼───────────────┤\n",
       "│ dense_17 (\u001b[38;5;33mDense\u001b[0m)                │ (\u001b[38;5;45mNone\u001b[0m, \u001b[38;5;34m8\u001b[0m)              │           \u001b[38;5;34m248\u001b[0m │\n",
       "└─────────────────────────────────┴────────────────────────┴───────────────┘\n"
      ]
     },
     "metadata": {},
     "output_type": "display_data"
    },
    {
     "data": {
      "text/html": [
       "<pre style=\"white-space:pre;overflow-x:auto;line-height:normal;font-family:Menlo,'DejaVu Sans Mono',consolas,'Courier New',monospace\"><span style=\"font-weight: bold\"> Total params: </span><span style=\"color: #00af00; text-decoration-color: #00af00\">2,198</span> (8.59 KB)\n",
       "</pre>\n"
      ],
      "text/plain": [
       "\u001b[1m Total params: \u001b[0m\u001b[38;5;34m2,198\u001b[0m (8.59 KB)\n"
      ]
     },
     "metadata": {},
     "output_type": "display_data"
    },
    {
     "data": {
      "text/html": [
       "<pre style=\"white-space:pre;overflow-x:auto;line-height:normal;font-family:Menlo,'DejaVu Sans Mono',consolas,'Courier New',monospace\"><span style=\"font-weight: bold\"> Trainable params: </span><span style=\"color: #00af00; text-decoration-color: #00af00\">2,198</span> (8.59 KB)\n",
       "</pre>\n"
      ],
      "text/plain": [
       "\u001b[1m Trainable params: \u001b[0m\u001b[38;5;34m2,198\u001b[0m (8.59 KB)\n"
      ]
     },
     "metadata": {},
     "output_type": "display_data"
    },
    {
     "data": {
      "text/html": [
       "<pre style=\"white-space:pre;overflow-x:auto;line-height:normal;font-family:Menlo,'DejaVu Sans Mono',consolas,'Courier New',monospace\"><span style=\"font-weight: bold\"> Non-trainable params: </span><span style=\"color: #00af00; text-decoration-color: #00af00\">0</span> (0.00 B)\n",
       "</pre>\n"
      ],
      "text/plain": [
       "\u001b[1m Non-trainable params: \u001b[0m\u001b[38;5;34m0\u001b[0m (0.00 B)\n"
      ]
     },
     "metadata": {},
     "output_type": "display_data"
    }
   ],
   "source": [
    "generator = build_generator(input_dim=2)\n",
    "generator.summary()"
   ]
  },
  {
   "cell_type": "markdown",
   "id": "dd3a8f9b-881b-467b-b495-7df701bc005b",
   "metadata": {},
   "source": [
    "## Discriminator"
   ]
  },
  {
   "cell_type": "code",
   "execution_count": 73,
   "id": "a5fe8002-1768-4630-9858-0679ac761b7d",
   "metadata": {},
   "outputs": [],
   "source": [
    "def build_discriminator(input_dim):\n",
    "\t\"\"\"\n",
    "\tBuilds the discriminator model.\n",
    "\tArgs:\n",
    "\t\tinput_dim (int): Dimension of the input sequence\n",
    "\tReturns:\n",
    "\t\ttf.keras.Model: Discrtiminator model\n",
    "\t\"\"\"\n",
    "\tmodel = tf.keras.Sequential([\n",
    "\t\ttf.keras.layers.InputLayer((input_dim, 1)),  # Input Layer (reshape for convolution)\n",
    "\t\ttf.keras.layers.Conv1D(4, kernel_size=2, strides=1, activation='relu'),\n",
    "\t\ttf.keras.layers.MaxPooling1D(pool_size=2),\n",
    "\t\ttf.keras.layers.Conv1D(4, kernel_size=2, strides=1, activation='relu'),\n",
    "\t\ttf.keras.layers.MaxPooling1D(pool_size=2),\n",
    "\t\ttf.keras.layers.Flatten(),  # Flatten before dense layers\n",
    "\t\ttf.keras.layers.Dense(4, activation='relu'),\n",
    "\t\ttf.keras.layers.Dense(1, activation='sigmoid')  # Output: Real (1) or Fake (0)\n",
    "\t])\n",
    "\treturn model"
   ]
  },
  {
   "cell_type": "code",
   "execution_count": 74,
   "id": "177c1664-5082-481d-96d5-49066b0958c8",
   "metadata": {},
   "outputs": [
    {
     "data": {
      "text/html": [
       "<pre style=\"white-space:pre;overflow-x:auto;line-height:normal;font-family:Menlo,'DejaVu Sans Mono',consolas,'Courier New',monospace\"><span style=\"font-weight: bold\">Model: \"sequential_5\"</span>\n",
       "</pre>\n"
      ],
      "text/plain": [
       "\u001b[1mModel: \"sequential_5\"\u001b[0m\n"
      ]
     },
     "metadata": {},
     "output_type": "display_data"
    },
    {
     "data": {
      "text/html": [
       "<pre style=\"white-space:pre;overflow-x:auto;line-height:normal;font-family:Menlo,'DejaVu Sans Mono',consolas,'Courier New',monospace\">┏━━━━━━━━━━━━━━━━━━━━━━━━━━━━━━━━━┳━━━━━━━━━━━━━━━━━━━━━━━━┳━━━━━━━━━━━━━━━┓\n",
       "┃<span style=\"font-weight: bold\"> Layer (type)                    </span>┃<span style=\"font-weight: bold\"> Output Shape           </span>┃<span style=\"font-weight: bold\">       Param # </span>┃\n",
       "┡━━━━━━━━━━━━━━━━━━━━━━━━━━━━━━━━━╇━━━━━━━━━━━━━━━━━━━━━━━━╇━━━━━━━━━━━━━━━┩\n",
       "│ conv1d_2 (<span style=\"color: #0087ff; text-decoration-color: #0087ff\">Conv1D</span>)               │ (<span style=\"color: #00d7ff; text-decoration-color: #00d7ff\">None</span>, <span style=\"color: #00af00; text-decoration-color: #00af00\">7</span>, <span style=\"color: #00af00; text-decoration-color: #00af00\">4</span>)           │            <span style=\"color: #00af00; text-decoration-color: #00af00\">12</span> │\n",
       "├─────────────────────────────────┼────────────────────────┼───────────────┤\n",
       "│ max_pooling1d_2 (<span style=\"color: #0087ff; text-decoration-color: #0087ff\">MaxPooling1D</span>)  │ (<span style=\"color: #00d7ff; text-decoration-color: #00d7ff\">None</span>, <span style=\"color: #00af00; text-decoration-color: #00af00\">3</span>, <span style=\"color: #00af00; text-decoration-color: #00af00\">4</span>)           │             <span style=\"color: #00af00; text-decoration-color: #00af00\">0</span> │\n",
       "├─────────────────────────────────┼────────────────────────┼───────────────┤\n",
       "│ conv1d_3 (<span style=\"color: #0087ff; text-decoration-color: #0087ff\">Conv1D</span>)               │ (<span style=\"color: #00d7ff; text-decoration-color: #00d7ff\">None</span>, <span style=\"color: #00af00; text-decoration-color: #00af00\">2</span>, <span style=\"color: #00af00; text-decoration-color: #00af00\">4</span>)           │            <span style=\"color: #00af00; text-decoration-color: #00af00\">36</span> │\n",
       "├─────────────────────────────────┼────────────────────────┼───────────────┤\n",
       "│ max_pooling1d_3 (<span style=\"color: #0087ff; text-decoration-color: #0087ff\">MaxPooling1D</span>)  │ (<span style=\"color: #00d7ff; text-decoration-color: #00d7ff\">None</span>, <span style=\"color: #00af00; text-decoration-color: #00af00\">1</span>, <span style=\"color: #00af00; text-decoration-color: #00af00\">4</span>)           │             <span style=\"color: #00af00; text-decoration-color: #00af00\">0</span> │\n",
       "├─────────────────────────────────┼────────────────────────┼───────────────┤\n",
       "│ flatten_1 (<span style=\"color: #0087ff; text-decoration-color: #0087ff\">Flatten</span>)             │ (<span style=\"color: #00d7ff; text-decoration-color: #00d7ff\">None</span>, <span style=\"color: #00af00; text-decoration-color: #00af00\">4</span>)              │             <span style=\"color: #00af00; text-decoration-color: #00af00\">0</span> │\n",
       "├─────────────────────────────────┼────────────────────────┼───────────────┤\n",
       "│ dense_18 (<span style=\"color: #0087ff; text-decoration-color: #0087ff\">Dense</span>)                │ (<span style=\"color: #00d7ff; text-decoration-color: #00d7ff\">None</span>, <span style=\"color: #00af00; text-decoration-color: #00af00\">4</span>)              │            <span style=\"color: #00af00; text-decoration-color: #00af00\">20</span> │\n",
       "├─────────────────────────────────┼────────────────────────┼───────────────┤\n",
       "│ dense_19 (<span style=\"color: #0087ff; text-decoration-color: #0087ff\">Dense</span>)                │ (<span style=\"color: #00d7ff; text-decoration-color: #00d7ff\">None</span>, <span style=\"color: #00af00; text-decoration-color: #00af00\">1</span>)              │             <span style=\"color: #00af00; text-decoration-color: #00af00\">5</span> │\n",
       "└─────────────────────────────────┴────────────────────────┴───────────────┘\n",
       "</pre>\n"
      ],
      "text/plain": [
       "┏━━━━━━━━━━━━━━━━━━━━━━━━━━━━━━━━━┳━━━━━━━━━━━━━━━━━━━━━━━━┳━━━━━━━━━━━━━━━┓\n",
       "┃\u001b[1m \u001b[0m\u001b[1mLayer (type)                   \u001b[0m\u001b[1m \u001b[0m┃\u001b[1m \u001b[0m\u001b[1mOutput Shape          \u001b[0m\u001b[1m \u001b[0m┃\u001b[1m \u001b[0m\u001b[1m      Param #\u001b[0m\u001b[1m \u001b[0m┃\n",
       "┡━━━━━━━━━━━━━━━━━━━━━━━━━━━━━━━━━╇━━━━━━━━━━━━━━━━━━━━━━━━╇━━━━━━━━━━━━━━━┩\n",
       "│ conv1d_2 (\u001b[38;5;33mConv1D\u001b[0m)               │ (\u001b[38;5;45mNone\u001b[0m, \u001b[38;5;34m7\u001b[0m, \u001b[38;5;34m4\u001b[0m)           │            \u001b[38;5;34m12\u001b[0m │\n",
       "├─────────────────────────────────┼────────────────────────┼───────────────┤\n",
       "│ max_pooling1d_2 (\u001b[38;5;33mMaxPooling1D\u001b[0m)  │ (\u001b[38;5;45mNone\u001b[0m, \u001b[38;5;34m3\u001b[0m, \u001b[38;5;34m4\u001b[0m)           │             \u001b[38;5;34m0\u001b[0m │\n",
       "├─────────────────────────────────┼────────────────────────┼───────────────┤\n",
       "│ conv1d_3 (\u001b[38;5;33mConv1D\u001b[0m)               │ (\u001b[38;5;45mNone\u001b[0m, \u001b[38;5;34m2\u001b[0m, \u001b[38;5;34m4\u001b[0m)           │            \u001b[38;5;34m36\u001b[0m │\n",
       "├─────────────────────────────────┼────────────────────────┼───────────────┤\n",
       "│ max_pooling1d_3 (\u001b[38;5;33mMaxPooling1D\u001b[0m)  │ (\u001b[38;5;45mNone\u001b[0m, \u001b[38;5;34m1\u001b[0m, \u001b[38;5;34m4\u001b[0m)           │             \u001b[38;5;34m0\u001b[0m │\n",
       "├─────────────────────────────────┼────────────────────────┼───────────────┤\n",
       "│ flatten_1 (\u001b[38;5;33mFlatten\u001b[0m)             │ (\u001b[38;5;45mNone\u001b[0m, \u001b[38;5;34m4\u001b[0m)              │             \u001b[38;5;34m0\u001b[0m │\n",
       "├─────────────────────────────────┼────────────────────────┼───────────────┤\n",
       "│ dense_18 (\u001b[38;5;33mDense\u001b[0m)                │ (\u001b[38;5;45mNone\u001b[0m, \u001b[38;5;34m4\u001b[0m)              │            \u001b[38;5;34m20\u001b[0m │\n",
       "├─────────────────────────────────┼────────────────────────┼───────────────┤\n",
       "│ dense_19 (\u001b[38;5;33mDense\u001b[0m)                │ (\u001b[38;5;45mNone\u001b[0m, \u001b[38;5;34m1\u001b[0m)              │             \u001b[38;5;34m5\u001b[0m │\n",
       "└─────────────────────────────────┴────────────────────────┴───────────────┘\n"
      ]
     },
     "metadata": {},
     "output_type": "display_data"
    },
    {
     "data": {
      "text/html": [
       "<pre style=\"white-space:pre;overflow-x:auto;line-height:normal;font-family:Menlo,'DejaVu Sans Mono',consolas,'Courier New',monospace\"><span style=\"font-weight: bold\"> Total params: </span><span style=\"color: #00af00; text-decoration-color: #00af00\">73</span> (292.00 B)\n",
       "</pre>\n"
      ],
      "text/plain": [
       "\u001b[1m Total params: \u001b[0m\u001b[38;5;34m73\u001b[0m (292.00 B)\n"
      ]
     },
     "metadata": {},
     "output_type": "display_data"
    },
    {
     "data": {
      "text/html": [
       "<pre style=\"white-space:pre;overflow-x:auto;line-height:normal;font-family:Menlo,'DejaVu Sans Mono',consolas,'Courier New',monospace\"><span style=\"font-weight: bold\"> Trainable params: </span><span style=\"color: #00af00; text-decoration-color: #00af00\">73</span> (292.00 B)\n",
       "</pre>\n"
      ],
      "text/plain": [
       "\u001b[1m Trainable params: \u001b[0m\u001b[38;5;34m73\u001b[0m (292.00 B)\n"
      ]
     },
     "metadata": {},
     "output_type": "display_data"
    },
    {
     "data": {
      "text/html": [
       "<pre style=\"white-space:pre;overflow-x:auto;line-height:normal;font-family:Menlo,'DejaVu Sans Mono',consolas,'Courier New',monospace\"><span style=\"font-weight: bold\"> Non-trainable params: </span><span style=\"color: #00af00; text-decoration-color: #00af00\">0</span> (0.00 B)\n",
       "</pre>\n"
      ],
      "text/plain": [
       "\u001b[1m Non-trainable params: \u001b[0m\u001b[38;5;34m0\u001b[0m (0.00 B)\n"
      ]
     },
     "metadata": {},
     "output_type": "display_data"
    }
   ],
   "source": [
    "discriminator = build_discriminator(input_dim=8)\n",
    "discriminator.summary()"
   ]
  },
  {
   "cell_type": "code",
   "execution_count": 75,
   "id": "6ca208f1-f72f-4e8f-babc-7f7f9652c663",
   "metadata": {},
   "outputs": [],
   "source": [
    "# Generate a random input for the generator \n",
    "seed = tf.random.uniform((1, 1))  # Random seed\n",
    "offset = tf.constant([[0.5]])  # Example offset\n",
    "gen_input = tf.concat([seed, offset], axis=1)  # Combine seed and offset"
   ]
  },
  {
   "cell_type": "code",
   "execution_count": 76,
   "id": "26b1986d-2b56-42d8-bf17-646146548202",
   "metadata": {},
   "outputs": [
    {
     "name": "stdout",
     "output_type": "stream",
     "text": [
      "Generated fake data: [[0.9579294  0.12914465 0.08705177 0.9898894  0.02857297 0.95449686\n",
      "  0.9681391  0.916432  ]]\n"
     ]
    }
   ],
   "source": [
    "# Generate fake data\n",
    "fake_data = generator(gen_input)\n",
    "print(f'Generated fake data: {fake_data.numpy()}')"
   ]
  },
  {
   "cell_type": "code",
   "execution_count": 77,
   "id": "27b5e789-c992-4944-b99b-2a873f36d7a2",
   "metadata": {},
   "outputs": [
    {
     "name": "stdout",
     "output_type": "stream",
     "text": [
      "Discriminator score for real data: [[0.51434505]]\n",
      "Discriminator score for fake data: [[0.52526706]]\n"
     ]
    }
   ],
   "source": [
    "# Test discriminator with real and fake data \n",
    "real_data = tf.random.uniform((1, 8), 0, 1) # Real random data \n",
    "real_score = discriminator(tf.expand_dims(real_data, -1)) # Add channel for Conv1D \n",
    "fake_score = discriminator(tf.expand_dims(fake_data, -1)) \n",
    "print(\"Discriminator score for real data:\", real_score.numpy()) \n",
    "print(\"Discriminator score for fake data:\", fake_score.numpy())"
   ]
  },
  {
   "cell_type": "markdown",
   "id": "d8dcd4bd-eba8-4cea-b628-d1e798d5d547",
   "metadata": {},
   "source": [
    "## Loss"
   ]
  },
  {
   "cell_type": "code",
   "execution_count": 78,
   "id": "24d62d07-af55-4499-a83a-90a25b733ffa",
   "metadata": {},
   "outputs": [],
   "source": [
    "# Binary cross-entropy loss for discriminator and generator\n",
    "cross_entropy = tf.keras.losses.BinaryCrossentropy(from_logits=False)\n",
    "\n",
    "def discriminator_loss(real_output, fake_output):\n",
    "\t\"\"\"\n",
    "\tDiscriminator loss to classify real as 1 and fake as 0\n",
    "\t\"\"\"\n",
    "\treal_loss = cross_entropy(tf.ones_like(real_output), real_output)  # Real -> 1\n",
    "\tfake_loss = cross_entropy(tf.zeros_like(fake_output), fake_output)  # Fake -> 0\n",
    "\treturn real_loss + fake_loss\n",
    "\n",
    "def generator_loss(fake_output):\n",
    "\t\"\"\"\n",
    "\tGenerator loss to fool the discriminator (fake -> 1)\n",
    "\t\"\"\"\n",
    "\treturn cross_entropy(tf.ones_like(fake_output), fake_output)  # Fake -> 1"
   ]
  },
  {
   "cell_type": "markdown",
   "id": "522ce126-5051-4f3e-a71f-8c9b0ac7607d",
   "metadata": {},
   "source": [
    "## Optimzers"
   ]
  },
  {
   "cell_type": "code",
   "execution_count": 79,
   "id": "b4205ffd-3910-4376-b2fb-c236d6ad10cc",
   "metadata": {},
   "outputs": [],
   "source": [
    "# Learning rates for generator and discriminator\n",
    "generator_optimizer = tf.keras.optimizers.Adam(learning_rate=0.0002, beta_1=0.5)\n",
    "discriminator_optimizer = tf.keras.optimizers.Adam(learning_rate=0.0002, beta_1=0.5)"
   ]
  },
  {
   "cell_type": "markdown",
   "id": "4a7c3485-c15f-4ceb-9ed4-df64cb10eb76",
   "metadata": {},
   "source": [
    "## Testing Loss function"
   ]
  },
  {
   "cell_type": "code",
   "execution_count": 80,
   "id": "94f67eeb-40f8-47fa-a802-1d911b4645d4",
   "metadata": {},
   "outputs": [
    {
     "name": "stdout",
     "output_type": "stream",
     "text": [
      "Discriminator Loss: 0.45416128635406494\n",
      "Generator Loss: 1.406705379486084\n"
     ]
    }
   ],
   "source": [
    "# Example real and fake outputs from discriminator\n",
    "real_output = tf.constant([[0.8], [0.9]])   # Discriminator thinks real is likely real\n",
    "fake_output = tf.constant([[0.3], [0.2]])   # Discriminator thinks fake is likely fake\n",
    "\n",
    "# Calculate losses\n",
    "d_loss = discriminator_loss(real_output, fake_output)\n",
    "g_loss = generator_loss(fake_output)\n",
    "\n",
    "print(f'Discriminator Loss: {d_loss.numpy()}')\n",
    "print(f'Generator Loss: {g_loss.numpy()}')"
   ]
  },
  {
   "cell_type": "markdown",
   "id": "a89cb90e-e901-4290-932f-b103e5a04e8b",
   "metadata": {},
   "source": [
    "## Training Loop"
   ]
  },
  {
   "cell_type": "code",
   "execution_count": 81,
   "id": "ac71be47-786c-4b5a-8b54-9ec6a88739e3",
   "metadata": {},
   "outputs": [],
   "source": [
    "import tensorflow as tf\n",
    "import numpy as np\n",
    "\n",
    "@tf.function\n",
    "def train_step(real_data, generator, discriminator, generator_optimizer, discriminator_optimizer):\n",
    "    \"\"\"\n",
    "    Performs a single training step for both generator and discriminator.\n",
    "    \"\"\"\n",
    "    # Generate random seed and offset for the generator\n",
    "    seed = tf.random.uniform((real_data.shape[0], 1), minval=0, maxval=1)\n",
    "    offset = tf.random.uniform((real_data.shape[0], 1), minval=0, maxval=1)\n",
    "    gen_input = tf.concat([seed, offset], axis=1)\n",
    "\n",
    "    # Gradient updates for the discriminator\n",
    "    with tf.GradientTape() as disc_tape:\n",
    "        fake_data = generator(gen_input, training=True)\n",
    "        real_output = discriminator(tf.expand_dims(real_data, -1), training=True)\n",
    "        fake_output = discriminator(tf.expand_dims(fake_data, -1), training=True)\n",
    "        d_loss = discriminator_loss(real_output, fake_output)\n",
    "    gradients_of_discriminator = disc_tape.gradient(d_loss, discriminator.trainable_variables)\n",
    "    discriminator_optimizer.apply_gradients(zip(gradients_of_discriminator, discriminator.trainable_variables))\n",
    "\n",
    "    # Gradient updates for the generator\n",
    "    with tf.GradientTape() as gen_tape:\n",
    "        fake_data = generator(gen_input, training=True)\n",
    "        fake_output = discriminator(tf.expand_dims(fake_data, -1), training=True)\n",
    "        g_loss = generator_loss(fake_output)\n",
    "    gradients_of_generator = gen_tape.gradient(g_loss, generator.trainable_variables)\n",
    "    generator_optimizer.apply_gradients(zip(gradients_of_generator, generator.trainable_variables))\n",
    "\n",
    "    return d_loss, g_loss\n"
   ]
  },
  {
   "cell_type": "code",
   "execution_count": 82,
   "id": "1a3ff8f4-fb7e-4ff7-867d-3b03e7638118",
   "metadata": {},
   "outputs": [],
   "source": [
    "def train_gan(generator, discriminator, data, generator_optimizer, discriminator_optimizer, epochs, batch_size):\n",
    "    \"\"\"\n",
    "    Trains the GAN for a specified number of epochs.\n",
    "    \"\"\"\n",
    "    dataset = tf.data.Dataset.from_tensor_slices(data).shuffle(buffer_size=1024).batch(batch_size)\n",
    "\n",
    "    for epoch in range(epochs):\n",
    "        print(f\"Epoch {epoch+1}/{epochs}\")\n",
    "        for real_data in dataset:\n",
    "            d_loss, g_loss = train_step(real_data, generator, discriminator, generator_optimizer, discriminator_optimizer)\n",
    "\n",
    "        print(f\"Discriminator Loss: {d_loss.numpy()}, Generator Loss: {g_loss.numpy()}\")"
   ]
  },
  {
   "cell_type": "code",
   "execution_count": 83,
   "id": "342cc270-d4ac-47f5-9d70-1844e5122045",
   "metadata": {},
   "outputs": [],
   "source": [
    "# Generate normalized random data\n",
    "random_data = generate_random_data(10000, 8, 0, 2**16)\n",
    "normalized_data = normalize_data(random_data, 0, 2**16)"
   ]
  },
  {
   "cell_type": "code",
   "execution_count": 84,
   "id": "8280a414-155a-420d-b3fd-ba07ac7a7c94",
   "metadata": {},
   "outputs": [
    {
     "name": "stdout",
     "output_type": "stream",
     "text": [
      "Epoch 1/100\n"
     ]
    },
    {
     "name": "stderr",
     "output_type": "stream",
     "text": [
      "2025-01-01 23:17:31.802142: I tensorflow/core/framework/local_rendezvous.cc:405] Local rendezvous is aborting with status: OUT_OF_RANGE: End of sequence\n"
     ]
    },
    {
     "name": "stdout",
     "output_type": "stream",
     "text": [
      "Discriminator Loss: 1.3903343677520752, Generator Loss: 0.6863970756530762\n",
      "Epoch 2/100\n"
     ]
    },
    {
     "name": "stderr",
     "output_type": "stream",
     "text": [
      "2025-01-01 23:17:32.385948: I tensorflow/core/framework/local_rendezvous.cc:405] Local rendezvous is aborting with status: OUT_OF_RANGE: End of sequence\n"
     ]
    },
    {
     "name": "stdout",
     "output_type": "stream",
     "text": [
      "Discriminator Loss: 1.3885624408721924, Generator Loss: 0.6901291608810425\n",
      "Epoch 3/100\n",
      "Discriminator Loss: 1.3830182552337646, Generator Loss: 0.6958611011505127\n",
      "Epoch 4/100\n"
     ]
    },
    {
     "name": "stderr",
     "output_type": "stream",
     "text": [
      "2025-01-01 23:17:33.506499: I tensorflow/core/framework/local_rendezvous.cc:405] Local rendezvous is aborting with status: OUT_OF_RANGE: End of sequence\n"
     ]
    },
    {
     "name": "stdout",
     "output_type": "stream",
     "text": [
      "Discriminator Loss: 1.3849337100982666, Generator Loss: 0.6906560659408569\n",
      "Epoch 5/100\n",
      "Discriminator Loss: 1.3874633312225342, Generator Loss: 0.6921062469482422\n",
      "Epoch 6/100\n",
      "Discriminator Loss: 1.3846596479415894, Generator Loss: 0.694793701171875\n",
      "Epoch 7/100\n",
      "Discriminator Loss: 1.3878355026245117, Generator Loss: 0.6924532651901245\n",
      "Epoch 8/100\n"
     ]
    },
    {
     "name": "stderr",
     "output_type": "stream",
     "text": [
      "2025-01-01 23:17:35.746660: I tensorflow/core/framework/local_rendezvous.cc:405] Local rendezvous is aborting with status: OUT_OF_RANGE: End of sequence\n"
     ]
    },
    {
     "name": "stdout",
     "output_type": "stream",
     "text": [
      "Discriminator Loss: 1.3887648582458496, Generator Loss: 0.6916038990020752\n",
      "Epoch 9/100\n",
      "Discriminator Loss: 1.3854539394378662, Generator Loss: 0.6927079558372498\n",
      "Epoch 10/100\n",
      "Discriminator Loss: 1.3845279216766357, Generator Loss: 0.6930043697357178\n",
      "Epoch 11/100\n",
      "Discriminator Loss: 1.3831920623779297, Generator Loss: 0.6945459842681885\n",
      "Epoch 12/100\n",
      "Discriminator Loss: 1.385449767112732, Generator Loss: 0.6941541433334351\n",
      "Epoch 13/100\n",
      "Discriminator Loss: 1.3859646320343018, Generator Loss: 0.6923205852508545\n",
      "Epoch 14/100\n",
      "Discriminator Loss: 1.3848958015441895, Generator Loss: 0.6931621432304382\n",
      "Epoch 15/100\n",
      "Discriminator Loss: 1.3861119747161865, Generator Loss: 0.692112147808075\n",
      "Epoch 16/100\n"
     ]
    },
    {
     "name": "stderr",
     "output_type": "stream",
     "text": [
      "2025-01-01 23:17:40.419173: I tensorflow/core/framework/local_rendezvous.cc:405] Local rendezvous is aborting with status: OUT_OF_RANGE: End of sequence\n"
     ]
    },
    {
     "name": "stdout",
     "output_type": "stream",
     "text": [
      "Discriminator Loss: 1.3861680030822754, Generator Loss: 0.6921025514602661\n",
      "Epoch 17/100\n",
      "Discriminator Loss: 1.3860771656036377, Generator Loss: 0.6942609548568726\n",
      "Epoch 18/100\n",
      "Discriminator Loss: 1.388427972793579, Generator Loss: 0.6919704079627991\n",
      "Epoch 19/100\n",
      "Discriminator Loss: 1.3852585554122925, Generator Loss: 0.6937351226806641\n",
      "Epoch 20/100\n",
      "Discriminator Loss: 1.3862090110778809, Generator Loss: 0.693151593208313\n",
      "Epoch 21/100\n",
      "Discriminator Loss: 1.3873462677001953, Generator Loss: 0.6930177807807922\n",
      "Epoch 22/100\n",
      "Discriminator Loss: 1.3855934143066406, Generator Loss: 0.6940494775772095\n",
      "Epoch 23/100\n",
      "Discriminator Loss: 1.388000249862671, Generator Loss: 0.6912530660629272\n",
      "Epoch 24/100\n",
      "Discriminator Loss: 1.3870437145233154, Generator Loss: 0.6925243139266968\n",
      "Epoch 25/100\n",
      "Discriminator Loss: 1.3869668245315552, Generator Loss: 0.6925678849220276\n",
      "Epoch 26/100\n",
      "Discriminator Loss: 1.3857898712158203, Generator Loss: 0.6924890279769897\n",
      "Epoch 27/100\n",
      "Discriminator Loss: 1.3854705095291138, Generator Loss: 0.6916879415512085\n",
      "Epoch 28/100\n",
      "Discriminator Loss: 1.3847787380218506, Generator Loss: 0.6933141946792603\n",
      "Epoch 29/100\n",
      "Discriminator Loss: 1.3886005878448486, Generator Loss: 0.6912046670913696\n",
      "Epoch 30/100\n",
      "Discriminator Loss: 1.385982632637024, Generator Loss: 0.6931887865066528\n",
      "Epoch 31/100\n",
      "Discriminator Loss: 1.3870108127593994, Generator Loss: 0.6923677921295166\n",
      "Epoch 32/100\n"
     ]
    },
    {
     "name": "stderr",
     "output_type": "stream",
     "text": [
      "2025-01-01 23:17:50.561557: I tensorflow/core/framework/local_rendezvous.cc:405] Local rendezvous is aborting with status: OUT_OF_RANGE: End of sequence\n"
     ]
    },
    {
     "name": "stdout",
     "output_type": "stream",
     "text": [
      "Discriminator Loss: 1.3881994485855103, Generator Loss: 0.6936398148536682\n",
      "Epoch 33/100\n",
      "Discriminator Loss: 1.3830946683883667, Generator Loss: 0.6940146684646606\n",
      "Epoch 34/100\n",
      "Discriminator Loss: 1.3844901323318481, Generator Loss: 0.6945794820785522\n",
      "Epoch 35/100\n",
      "Discriminator Loss: 1.3882839679718018, Generator Loss: 0.6930607557296753\n",
      "Epoch 36/100\n",
      "Discriminator Loss: 1.3854024410247803, Generator Loss: 0.69464111328125\n",
      "Epoch 37/100\n",
      "Discriminator Loss: 1.3878822326660156, Generator Loss: 0.691135585308075\n",
      "Epoch 38/100\n",
      "Discriminator Loss: 1.385951042175293, Generator Loss: 0.6947783827781677\n",
      "Epoch 39/100\n",
      "Discriminator Loss: 1.378498911857605, Generator Loss: 0.6935371160507202\n",
      "Epoch 40/100\n",
      "Discriminator Loss: 1.3913239240646362, Generator Loss: 0.6896398663520813\n",
      "Epoch 41/100\n",
      "Discriminator Loss: 1.3777527809143066, Generator Loss: 0.6929497122764587\n",
      "Epoch 42/100\n",
      "Discriminator Loss: 1.3680381774902344, Generator Loss: 0.6985002756118774\n",
      "Epoch 43/100\n",
      "Discriminator Loss: 1.395024061203003, Generator Loss: 0.6832735538482666\n",
      "Epoch 44/100\n",
      "Discriminator Loss: 1.3810546398162842, Generator Loss: 0.6979745626449585\n",
      "Epoch 45/100\n",
      "Discriminator Loss: 1.3937602043151855, Generator Loss: 0.6869738698005676\n",
      "Epoch 46/100\n",
      "Discriminator Loss: 1.3310096263885498, Generator Loss: 0.7035648822784424\n",
      "Epoch 47/100\n",
      "Discriminator Loss: 1.3804973363876343, Generator Loss: 0.7028509378433228\n",
      "Epoch 48/100\n",
      "Discriminator Loss: 1.3763166666030884, Generator Loss: 0.6817173361778259\n",
      "Epoch 49/100\n",
      "Discriminator Loss: 1.358548879623413, Generator Loss: 0.7122532725334167\n",
      "Epoch 50/100\n",
      "Discriminator Loss: 1.425605058670044, Generator Loss: 0.6863203048706055\n",
      "Epoch 51/100\n",
      "Discriminator Loss: 1.4000778198242188, Generator Loss: 0.6892045736312866\n",
      "Epoch 52/100\n",
      "Discriminator Loss: 1.3100239038467407, Generator Loss: 0.7466725707054138\n",
      "Epoch 53/100\n",
      "Discriminator Loss: 1.3223525285720825, Generator Loss: 0.7281267642974854\n",
      "Epoch 54/100\n",
      "Discriminator Loss: 1.3153082132339478, Generator Loss: 0.7374382019042969\n",
      "Epoch 55/100\n",
      "Discriminator Loss: 1.2837598323822021, Generator Loss: 0.7871348857879639\n",
      "Epoch 56/100\n",
      "Discriminator Loss: 1.2003132104873657, Generator Loss: 0.8353409171104431\n",
      "Epoch 57/100\n",
      "Discriminator Loss: 1.179957628250122, Generator Loss: 0.8702933192253113\n",
      "Epoch 58/100\n",
      "Discriminator Loss: 1.4109958410263062, Generator Loss: 0.7297213077545166\n",
      "Epoch 59/100\n",
      "Discriminator Loss: 1.2936650514602661, Generator Loss: 0.8059542775154114\n",
      "Epoch 60/100\n",
      "Discriminator Loss: 1.4517501592636108, Generator Loss: 0.7306722402572632\n",
      "Epoch 61/100\n",
      "Discriminator Loss: 1.3517119884490967, Generator Loss: 0.8181113004684448\n",
      "Epoch 62/100\n",
      "Discriminator Loss: 1.0952715873718262, Generator Loss: 0.976886510848999\n",
      "Epoch 63/100\n",
      "Discriminator Loss: 0.8892403244972229, Generator Loss: 1.2063250541687012\n",
      "Epoch 64/100\n"
     ]
    },
    {
     "name": "stderr",
     "output_type": "stream",
     "text": [
      "2025-01-01 23:18:10.828194: I tensorflow/core/framework/local_rendezvous.cc:405] Local rendezvous is aborting with status: OUT_OF_RANGE: End of sequence\n"
     ]
    },
    {
     "name": "stdout",
     "output_type": "stream",
     "text": [
      "Discriminator Loss: 0.9579813480377197, Generator Loss: 1.0497692823410034\n",
      "Epoch 65/100\n",
      "Discriminator Loss: 1.107328176498413, Generator Loss: 1.0073055028915405\n",
      "Epoch 66/100\n",
      "Discriminator Loss: 1.1506190299987793, Generator Loss: 1.108701229095459\n",
      "Epoch 67/100\n",
      "Discriminator Loss: 0.9274484515190125, Generator Loss: 1.3490993976593018\n",
      "Epoch 68/100\n",
      "Discriminator Loss: 1.2012385129928589, Generator Loss: 1.1722683906555176\n",
      "Epoch 69/100\n",
      "Discriminator Loss: 1.2349857091903687, Generator Loss: 1.0767184495925903\n",
      "Epoch 70/100\n",
      "Discriminator Loss: 1.279191017150879, Generator Loss: 1.1605870723724365\n",
      "Epoch 71/100\n",
      "Discriminator Loss: 1.4590322971343994, Generator Loss: 1.0886473655700684\n",
      "Epoch 72/100\n",
      "Discriminator Loss: 0.8108826875686646, Generator Loss: 1.6466343402862549\n",
      "Epoch 73/100\n",
      "Discriminator Loss: 0.993598461151123, Generator Loss: 1.3470391035079956\n",
      "Epoch 74/100\n",
      "Discriminator Loss: 0.5292792916297913, Generator Loss: 1.9310147762298584\n",
      "Epoch 75/100\n",
      "Discriminator Loss: 0.3779376149177551, Generator Loss: 2.366885185241699\n",
      "Epoch 76/100\n",
      "Discriminator Loss: 0.6115460395812988, Generator Loss: 2.329774856567383\n",
      "Epoch 77/100\n",
      "Discriminator Loss: 0.532569408416748, Generator Loss: 2.135324478149414\n",
      "Epoch 78/100\n",
      "Discriminator Loss: 0.37569692730903625, Generator Loss: 2.6998915672302246\n",
      "Epoch 79/100\n",
      "Discriminator Loss: 0.14742939174175262, Generator Loss: 3.177093505859375\n",
      "Epoch 80/100\n",
      "Discriminator Loss: 0.2492554485797882, Generator Loss: 2.7454781532287598\n",
      "Epoch 81/100\n",
      "Discriminator Loss: 0.43930360674858093, Generator Loss: 2.6970269680023193\n",
      "Epoch 82/100\n",
      "Discriminator Loss: 0.3512008488178253, Generator Loss: 3.6393303871154785\n",
      "Epoch 83/100\n",
      "Discriminator Loss: 0.7995424270629883, Generator Loss: 2.5343260765075684\n",
      "Epoch 84/100\n",
      "Discriminator Loss: 0.41467946767807007, Generator Loss: 2.654768228530884\n",
      "Epoch 85/100\n",
      "Discriminator Loss: 0.7909773588180542, Generator Loss: 2.199716091156006\n",
      "Epoch 86/100\n",
      "Discriminator Loss: 0.8274896144866943, Generator Loss: 2.5036535263061523\n",
      "Epoch 87/100\n",
      "Discriminator Loss: 0.548607587814331, Generator Loss: 3.019972801208496\n",
      "Epoch 88/100\n",
      "Discriminator Loss: 0.27616769075393677, Generator Loss: 3.5143730640411377\n",
      "Epoch 89/100\n",
      "Discriminator Loss: 0.6690219640731812, Generator Loss: 2.228980302810669\n",
      "Epoch 90/100\n",
      "Discriminator Loss: 0.3487933576107025, Generator Loss: 2.781477212905884\n",
      "Epoch 91/100\n",
      "Discriminator Loss: 0.41618913412094116, Generator Loss: 3.568711280822754\n",
      "Epoch 92/100\n",
      "Discriminator Loss: 0.2180209755897522, Generator Loss: 3.9356770515441895\n",
      "Epoch 93/100\n",
      "Discriminator Loss: 0.21502867341041565, Generator Loss: 4.041391849517822\n",
      "Epoch 94/100\n",
      "Discriminator Loss: 0.39348292350769043, Generator Loss: 4.076770782470703\n",
      "Epoch 95/100\n",
      "Discriminator Loss: 0.15113705396652222, Generator Loss: 4.159650802612305\n",
      "Epoch 96/100\n",
      "Discriminator Loss: 0.24189776182174683, Generator Loss: 4.144669532775879\n",
      "Epoch 97/100\n",
      "Discriminator Loss: 0.11904723942279816, Generator Loss: 4.903059005737305\n",
      "Epoch 98/100\n",
      "Discriminator Loss: 0.062476061284542084, Generator Loss: 4.79770565032959\n",
      "Epoch 99/100\n",
      "Discriminator Loss: 0.19219717383384705, Generator Loss: 4.575194358825684\n",
      "Epoch 100/100\n",
      "Discriminator Loss: 0.025210566818714142, Generator Loss: 4.873744964599609\n"
     ]
    }
   ],
   "source": [
    "# Train the GAN\n",
    "train_gan(\n",
    "    generator,\n",
    "    discriminator,\n",
    "    normalized_data,\n",
    "    generator_optimizer,\n",
    "    discriminator_optimizer,\n",
    "    epochs=100,  # Adjust as needed\n",
    "    batch_size=64\n",
    ")"
   ]
  },
  {
   "cell_type": "markdown",
   "id": "ba3157f5-8846-4e3a-b361-8d80c3eac2c0",
   "metadata": {},
   "source": [
    "## Evaluate"
   ]
  },
  {
   "cell_type": "code",
   "execution_count": 85,
   "id": "2fcea529-0e71-4086-a7e2-c69bb82a78f9",
   "metadata": {},
   "outputs": [
    {
     "data": {
      "image/png": "[encoded data removed]",
      "text/plain": [
       "<Figure size 640x480 with 1 Axes>"
      ]
     },
     "metadata": {},
     "output_type": "display_data"
    }
   ],
   "source": [
    "# Generate random inputs for the generator\n",
    "num_samples = 1000\n",
    "seed = tf.random.uniform((num_samples, 1), minval=0, maxval=1)\n",
    "offset = tf.random.uniform((num_samples, 1), minval=0, maxval=1)\n",
    "gen_input = tf.concat([seed, offset], axis=1)\n",
    "\n",
    "# Generate fake data\n",
    "fake_data = generator(gen_input, training=False)\n",
    "\n",
    "# Visualize the output\n",
    "import matplotlib.pyplot as plt\n",
    "\n",
    "plt.hist(fake_data.numpy().flatten(), bins=50, alpha=0.7, color='blue', label='Generated Data')\n",
    "plt.title(\"Distribution of Generator Output\")\n",
    "plt.xlabel(\"Value\")\n",
    "plt.ylabel(\"Frequency\")\n",
    "plt.legend()\n",
    "plt.show()"
   ]
  },
  {
   "cell_type": "markdown",
   "id": "a7b2795c-132f-4705-8ffb-63dfc305d5eb",
   "metadata": {},
   "source": [
    "## Validate randomness"
   ]
  },
  {
   "cell_type": "code",
   "execution_count": 86,
   "id": "e5381b27-45e9-4e96-b1b9-2f46c90dbca6",
   "metadata": {},
   "outputs": [
    {
     "name": "stdout",
     "output_type": "stream",
     "text": [
      "Mean of generated data: 0.08668164163827896\n",
      "Variance of generated data: 0.046221956610679626\n",
      "KS Statistic: 0.828, P-value: 0.0\n",
      "Generated data does not appear uniformly distributed (p <= 0.05).\n"
     ]
    }
   ],
   "source": [
    "# Compute basic statistics\n",
    "mean = tf.reduce_mean(fake_data).numpy()\n",
    "variance = tf.math.reduce_variance(fake_data).numpy()\n",
    "print(f\"Mean of generated data: {mean}\")\n",
    "print(f\"Variance of generated data: {variance}\")\n",
    "\n",
    "# Perform a Kolmogorov-Smirnov (KS) test for uniformity\n",
    "from scipy.stats import kstest\n",
    "\n",
    "flat_data = fake_data.numpy().flatten()\n",
    "ks_stat, ks_p_value = kstest(flat_data, 'uniform', args=(0, 1))  # Check against uniform distribution\n",
    "print(f\"KS Statistic: {ks_stat}, P-value: {ks_p_value}\")\n",
    "\n",
    "if ks_p_value > 0.05:\n",
    "    print(\"Generated data appears to be uniformly distributed (p > 0.05).\")\n",
    "else:\n",
    "    print(\"Generated data does not appear uniformly distributed (p <= 0.05).\")"
   ]
  },
  {
   "cell_type": "markdown",
   "id": "ecea71bd-67e9-4010-b390-ab15136af9b6",
   "metadata": {},
   "source": [
    "## Converts Output -> Binary"
   ]
  },
  {
   "cell_type": "code",
   "execution_count": 87,
   "id": "cc0dc2ab-97ba-4e4d-bac2-81864bb46ca8",
   "metadata": {},
   "outputs": [
    {
     "name": "stdout",
     "output_type": "stream",
     "text": [
      "Binary data saved to 'generated_data.bin'\n"
     ]
    }
   ],
   "source": [
    "# Convert generated data to binary (16-bit integers)\n",
    "def float_to_binary(data, bit_length=16):\n",
    "    \"\"\"\n",
    "    Converts normalized float data to binary representation.\n",
    "    \"\"\"\n",
    "    int_data = (data.numpy() * (2**bit_length - 1)).astype(int)\n",
    "    binary_data = ''.join(f\"{x:016b}\" for x in int_data.flatten())\n",
    "    return binary_data\n",
    "\n",
    "binary_data = float_to_binary(fake_data)\n",
    "with open(\"generated_data.bin\", \"w\") as f:\n",
    "    f.write(binary_data)\n",
    "print(\"Binary data saved to 'generated_data.bin'\")"
   ]
  },
  {
   "cell_type": "code",
   "execution_count": null,
   "id": "15cc02c9-007c-4732-8e5c-be92756ba2df",
   "metadata": {},
   "outputs": [],
   "source": []
  }
 ],
 "metadata": {
  "kernelspec": {
   "display_name": "Python 3 (ipykernel)",
   "language": "python",
   "name": "python3"
  },
  "language_info": {
   "codemirror_mode": {
    "name": "ipython",
    "version": 3
   },
   "file_extension": ".py",
   "mimetype": "text/x-python",
   "name": "python",
   "nbconvert_exporter": "python",
   "pygments_lexer": "ipython3",
   "version": "3.11.2"
  }
 },
 "nbformat": 4,
 "nbformat_minor": 5
}
